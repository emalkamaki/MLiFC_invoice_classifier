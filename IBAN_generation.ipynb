{
 "cells": [
  {
   "cell_type": "markdown",
   "metadata": {
    "colab_type": "text",
    "id": "T4sh0ehhyAJz"
   },
   "source": [
    "# generate IBANs only to mutilate them later\n",
    "Pop Quiz, Invoice Suckers!\n",
    "\n",
    "Which of the following is a valid IBAN?\n",
    "```\n",
    "NL59 K1NAB 6291 4688 95   |   NL29 COBA 9059T 5649 88   |   NL47 ABNA 83Q91 2006 36\n",
    "NL59 KNAB 629?1 4688 95   |   N\\L29 COBA 9059 5649 88   |   NL47 ABNA_ 8391 2006 36\n",
    "NL59 KNAB 6291 468 95     |   NL29 COBA 90595649 88     |   NL47 ABNA 8391 2006 6\n",
    "NL59  KNAB 6291 4688 95   |   N\tL29 COBA 9059 5649 88|   NL47   ABNA 8391 2006 36\n",
    "NL59 KNAb 6291 4688 95    |   Nl29 COBA 9059 5649 88    |   NL47 ABnA 8391 2006 36\n",
    "NL59 KNAB 6291 5688 95    |   NL29 COBA 9059 5749 88    |   NL47 ABNA 8391 3006 36\n",
    "```\n",
    "The right answer is: Probably none of them. The IBANs above were mutilated to simulate noise in our scanned invoices. I applied six different point-mutations to the strings. \n",
    "\n",
    "But is it really so difficult to combine six invalid IBANs into one valid IBAN? I believe a NN could learn to solve this. With the functions below it is possible to generate a training set for that NN. \n",
    "\n",
    "BTW, the correct IBANs are:\n",
    "```\n",
    "NL59 KNAB 6291 4688 95    |   NL29 COBA 9059 5649 88    |   NL47 ABNA 8391 2006 36\n",
    "```"
   ]
  },
  {
   "cell_type": "markdown",
   "metadata": {
    "colab_type": "text",
    "id": "FEJ37aWRLr-O"
   },
   "source": [
    "## notes on code\n",
    "```\n",
    "A formatted iban is called a fiban to distinguish a IBAN object from a string object.\n",
    "(I suggest the name ciban for a compact iban.)\n",
    "All functions (that handle lists of [cf]ibans) expect and return numpy arrays.\n",
    "\n",
    "```"
   ]
  },
  {
   "cell_type": "markdown",
   "metadata": {
    "colab_type": "text",
    "id": "37P4BMat_dMr"
   },
   "source": [
    "## where next?\n",
    "* include cibans into the mix, Jannes' generator only uses the compact format\n",
    "* generate a large pandas dataframe filled with some number of different versions (X) of the same fiban. \n",
    "* Add a column with the correct fiban (y).\n",
    "* train a NN to take in different versions and predict the correct fiban.\n",
    "\n",
    "Problems I see with that:\n",
    "* How do we format the data for the NN's input? Onehot encoded characters, as Jannes' baseline?\n"
   ]
  },
  {
   "cell_type": "code",
   "execution_count": 1,
   "metadata": {
    "colab": {
     "autoexec": {
      "startup": false,
      "wait_interval": 0
     }
    },
    "colab_type": "code",
    "id": "JA9mosAUyjHt"
   },
   "outputs": [],
   "source": [
    "!pip install -q schwifty"
   ]
  },
  {
   "cell_type": "code",
   "execution_count": 2,
   "metadata": {
    "colab": {
     "autoexec": {
      "startup": false,
      "wait_interval": 0
     }
    },
    "colab_type": "code",
    "id": "tIVSAyQ9ynd8"
   },
   "outputs": [],
   "source": [
    "from schwifty import IBAN \n",
    "import numpy as np\n",
    "import time as time\n",
    "import re\n",
    "import pandas as pd\n",
    "import uuid\n",
    "\n",
    "np.random.seed(int(time.time()))\n",
    "  \n",
    "# NL bank codes taken from https://www.betaalvereniging.nl/aandachtsgebieden/giraal-betalingsverkeer/bic-sepa-transacties/\n",
    "dutch_bankcodes = \"ABNA,ADYB,AEGO,ANAA,ANDL,ARBN,ARSN,ASNB,ATBA,BCDM,BCIT,BICK,BINK,BKCH,BKMG,BLGW,BMEU,BNDA,BNGH,BNPA,BOFA,BOFS,BOTK,BUNQ,CHAS,CITC,CITI,COBA,DEUT,DHBN,DLBK,DNIB,EBUR,FBHL,FLOR,FRGH,FRNX,FTSB,FVLB,GILL,HAND,HHBA,HSBC,ICBK,INGB,ISBK,KABA,KASA,KNAB,KOEX,KRED,LOCY,LOYD,LPLN,MHCB,MOYO,NNBA,NWAB,PCBC,RABO,RBRB,SNSB,SOGE,TEBU,TRIO,UBSW,UGBI,VOWA,ZWLB\".split(\",\")\n",
    "\n",
    "# print(dutch_bankcodes)"
   ]
  },
  {
   "cell_type": "code",
   "execution_count": 3,
   "metadata": {
    "colab": {
     "autoexec": {
      "startup": false,
      "wait_interval": 0
     },
     "base_uri": "https://localhost:8080/",
     "height": 70,
     "output_extras": [
      {
       "item_id": 1
      }
     ]
    },
    "colab_type": "code",
    "executionInfo": {
     "elapsed": 490,
     "status": "ok",
     "timestamp": 1520950422214,
     "user": {
      "displayName": "rik",
      "photoUrl": "//lh6.googleusercontent.com/-ZGIi-vN4KMU/AAAAAAAAAAI/AAAAAAAAAFk/Ki-nNio6VVM/s50-c-k-no/photo.jpg",
      "userId": "113719912521762461555"
     },
     "user_tz": -60
    },
    "id": "RrQoxjuRzGIW",
    "outputId": "4d6e27df-d806-4329-ee4c-0f82f32e4327"
   },
   "outputs": [
    {
     "name": "stdout",
     "output_type": "stream",
     "text": [
      "NL56 ASNB 1007 0273 82\n",
      "NL56ASNB1007027382\n"
     ]
    }
   ],
   "source": [
    "iban = IBAN.generate('NL', bank_code='ASNB', account_code='1007027382')\n",
    "print(iban.formatted)\n",
    "print(iban.compact)\n"
   ]
  },
  {
   "cell_type": "code",
   "execution_count": null,
   "metadata": {
    "colab": {
     "autoexec": {
      "startup": false,
      "wait_interval": 0
     }
    },
    "colab_type": "code",
    "id": "nqzLZ6tgGryq"
   },
   "outputs": [],
   "source": []
  },
  {
   "cell_type": "code",
   "execution_count": 4,
   "metadata": {
    "colab": {
     "autoexec": {
      "startup": false,
      "wait_interval": 0
     }
    },
    "colab_type": "code",
    "id": "26qVYhZlyk5d"
   },
   "outputs": [],
   "source": [
    "def generate_random_fibans(num_fibans, country_code='NL'):\n",
    "  fibans = []\n",
    "  for _ in range(num_fibans):\n",
    "    bank_code = dutch_bankcodes[ np.random.randint(len(dutch_bankcodes)) ]\n",
    "    account_code = str(np.random.randint(9999, high=9999999999))\n",
    "    iban = IBAN.generate(country_code, bank_code=bank_code, account_code=account_code)\n",
    "    fibans.append(iban.formatted)\n",
    "\n",
    "  return np.array(fibans)"
   ]
  },
  {
   "cell_type": "code",
   "execution_count": 5,
   "metadata": {
    "colab": {
     "autoexec": {
      "startup": false,
      "wait_interval": 0
     }
    },
    "colab_type": "code",
    "id": "U36WbgnizuMO"
   },
   "outputs": [],
   "source": [
    "def validate_fibans(fibans, mode='all'):\n",
    "  validations = []\n",
    "  for fiban in fibans:\n",
    "    try:\n",
    "      IBAN(fiban)\n",
    "    except ValueError as e:\n",
    "      validations.append(False)\n",
    "    else:\n",
    "      validations.append(True)\n",
    "\n",
    "  if mode=='all':\n",
    "    judgment = np.all(validations)\n",
    "  elif mode=='any':\n",
    "    judgment = np.any(validations)\n",
    "\n",
    "  return judgment, np.array(validations)\n"
   ]
  },
  {
   "cell_type": "code",
   "execution_count": 6,
   "metadata": {
    "colab": {
     "autoexec": {
      "startup": false,
      "wait_interval": 0
     }
    },
    "colab_type": "code",
    "id": "vrcYh79A303_"
   },
   "outputs": [],
   "source": [
    "# these functions take in a string, a position in the string and sometimes a new character\n",
    "# they return a new string\n",
    "\n",
    "def insert_char(instring, position, insert):\n",
    "  return instring[:position] + insert + instring[position:]\n",
    "\n",
    "def delete_char(instring, position):\n",
    "  return instring[:position] + instring[position+1:]\n",
    "\n",
    "def replace_char(instring, position, replacement):\n",
    "  return instring[:position] + replacement + instring[position+1:]\n"
   ]
  },
  {
   "cell_type": "code",
   "execution_count": 7,
   "metadata": {
    "colab": {
     "autoexec": {
      "startup": false,
      "wait_interval": 0
     }
    },
    "colab_type": "code",
    "id": "h81MX7AQqvNN"
   },
   "outputs": [],
   "source": [
    "def mutilate_strings(string_list, mode='insval', num_mutils=1):\n",
    "  \"\"\"\n",
    "  mutilates all strings in the input list at random position(s) of the string\n",
    "  \n",
    "  Choose a mode fom this list;\n",
    "  insval:   insert valid character\n",
    "  insinv:   insert invalid character\n",
    "  del:      delete character\n",
    "  inswhite: insert whitespace\n",
    "  lower:    change character to lowercase\n",
    "  plus:     increase digit by 1, (9 to 0)\n",
    "  \"\"\"\n",
    "\n",
    "  \n",
    "  valid_chars = \"ABCDEFGHIJKLMNOPQRSTUVWXYZ0123456789\"\n",
    "  invalid_chars = \"!@#$%^&*()_+-=[]{}\\\\';:\\\"|?><,./`~\\\"'±§™\"\n",
    "  whitespaces =   \"\\t \"   #  '\\t\\n\\x0b\\x0c\\r '     turns out that some of these whitespaces are dangerous\n",
    "  digits = \"0123456789\"\n",
    "  caps_re = re.compile(r'([A-Z])')\n",
    "  digits_re = re.compile(r'([0-9])')\n",
    "\n",
    "  mutilated_list = []\n",
    "  for string in string_list:\n",
    "    \n",
    "    if mode=='insval':\n",
    "      # insert one or more VALid characters anywhere in the string\n",
    "      for _ in range(num_mutils):\n",
    "        p = np.random.randint(len(string)+1)\n",
    "        c = valid_chars[ np.random.randint(len(valid_chars)) ]\n",
    "        string = insert_char(string, p, c)\n",
    "    elif mode=='insinv':\n",
    "      # insert one or more INValid characters anywhere in the string\n",
    "      for _ in range(num_mutils):\n",
    "        p = np.random.randint(len(string)+1)\n",
    "        c = invalid_chars[ np.random.randint(len(valid_chars)) ]\n",
    "        string = insert_char(string, p, c)\n",
    "    elif mode=='inswhite':\n",
    "      # insert one or more WHITEspace characters anywhere in the string\n",
    "      for _ in range(num_mutils):\n",
    "        p = np.random.randint(len(string)+1)\n",
    "        c = whitespaces[ np.random.randint(len(whitespaces)) ]\n",
    "        string = insert_char(string, p, c)\n",
    "    elif mode=='del':\n",
    "      # delete one or more characters anywhere in the string\n",
    "      for _ in range(num_mutils):\n",
    "        p = np.random.randint(len(string)) + 1\n",
    "        string = delete_char(string, p)\n",
    "    elif mode=='lower':\n",
    "      # change one or more characters to lowercase anywhere in the string\n",
    "      for _ in range(num_mutils):\n",
    "        caps_idx = [i.start() for i in caps_re.finditer(string) ]\n",
    "        if caps_idx:\n",
    "          p = caps_idx[np.random.randint(len(caps_idx))]\n",
    "          replacement = (string[p]).lower()\n",
    "          string = replace_char(string, p, replacement)\n",
    "    elif mode=='plus':\n",
    "      # change one or more characters to lowercase anywhere in the string\n",
    "      for _ in range(num_mutils):\n",
    "        digits_idx = [i.start() for i in digits_re.finditer(string) ]\n",
    "        if digits_idx:\n",
    "          p = digits_idx[np.random.randint(len(digits_idx))]\n",
    "          replacement = (int(string[p]) + 1) % 10\n",
    "          string = replace_char(string, p, str(replacement))\n",
    "    # endif\n",
    "\n",
    "    mutilated_list.append(string)\n",
    "    \n",
    "  return np.array(mutilated_list)\n"
   ]
  },
  {
   "cell_type": "code",
   "execution_count": null,
   "metadata": {
    "colab": {
     "autoexec": {
      "startup": false,
      "wait_interval": 0
     }
    },
    "colab_type": "code",
    "id": "WC4U1IbLSHml"
   },
   "outputs": [],
   "source": []
  },
  {
   "cell_type": "code",
   "execution_count": 8,
   "metadata": {
    "colab": {
     "autoexec": {
      "startup": false,
      "wait_interval": 0
     },
     "base_uri": "https://localhost:8080/",
     "height": 153,
     "output_extras": [
      {
       "item_id": 1
      }
     ]
    },
    "colab_type": "code",
    "executionInfo": {
     "elapsed": 493,
     "status": "ok",
     "timestamp": 1520952430520,
     "user": {
      "displayName": "rik",
      "photoUrl": "//lh6.googleusercontent.com/-ZGIi-vN4KMU/AAAAAAAAAAI/AAAAAAAAAFk/Ki-nNio6VVM/s50-c-k-no/photo.jpg",
      "userId": "113719912521762461555"
     },
     "user_tz": -60
    },
    "id": "Hx_NUTHo7ZAf",
    "outputId": "829b76df-607f-45f5-c6b3-45d215e8a7c1"
   },
   "outputs": [
    {
     "name": "stdout",
     "output_type": "stream",
     "text": [
      "NL13 BUNQ 7086 3621 85   |   NL06 GILL 4554 2868 16   |   NL17 SOGE 9237 2276 08\n",
      "NOL13 BUNQ 7086 3621 85   |   NL06 GILL O4554 2868 16   |   NL17 SOGE 9237 2276E 08\n",
      "NL13 BUNQ 7086 36@21 85   |   N[L06 GILL 4554 2868 16   |   NL17 SOGE 9237 2276 0^8\n",
      "NL13BUNQ 7086 3621 85   |   NL6 GILL 4554 2868 16   |   NL17 SOGE 9237 2276 0\n",
      "NL13 BUNQ 70 86 3621 85   |   NL06  GILL 4554 2868 16   |   NL17 SOGE 9237 2276 0 8\n",
      "nL13 BUNQ 7086 3621 85   |   NL06 GILl 4554 2868 16   |   NL17 SOgE 9237 2276 08\n",
      "NL23 BUNQ 7086 3621 85   |   NL06 GILL 4554 2968 16   |   NL17 SOGE 9247 2276 08\n"
     ]
    }
   ],
   "source": [
    "fibans = generate_random_fibans(3) # about 10s for 100k fibans in Colab\n",
    "print(\"   |   \".join(fibans))\n",
    "\n",
    "for m in ['insval', 'insinv', 'del', 'inswhite', 'lower', 'plus']:\n",
    "  fibans_mut = mutilate_strings(fibans, mode=m)\n",
    "  print(\"   |   \".join(fibans_mut))\n"
   ]
  },
  {
   "cell_type": "code",
   "execution_count": 9,
   "metadata": {
    "colab": {
     "autoexec": {
      "startup": false,
      "wait_interval": 0
     },
     "base_uri": "https://localhost:8080/",
     "height": 219,
     "output_extras": [
      {
       "item_id": 1
      }
     ]
    },
    "colab_type": "code",
    "executionInfo": {
     "elapsed": 513,
     "status": "ok",
     "timestamp": 1520950791307,
     "user": {
      "displayName": "rik",
      "photoUrl": "//lh6.googleusercontent.com/-ZGIi-vN4KMU/AAAAAAAAAAI/AAAAAAAAAFk/Ki-nNio6VVM/s50-c-k-no/photo.jpg",
      "userId": "113719912521762461555"
     },
     "user_tz": -60
    },
    "id": "pmz3Zg8zHiUF",
    "outputId": "6aef1828-1e99-4626-8cc1-288a890c1458"
   },
   "outputs": [
    {
     "name": "stdout",
     "output_type": "stream",
     "text": [
      "['NL13 BUNQ 7086 3621 85' 'NL06 GILL 4554 2868 16'\n",
      " 'NL17 SOGE 9237 2276 08']\n",
      "[]\n"
     ]
    }
   ],
   "source": [
    "(judgement, index) = validate_fibans(fibans)\n",
    "print(fibans[index])\n",
    "\n",
    "(judgement, index) = validate_fibans(fibans_mut)\n",
    "print(fibans_mut[index])\n"
   ]
  },
  {
   "cell_type": "code",
   "execution_count": null,
   "metadata": {
    "colab": {
     "autoexec": {
      "startup": false,
      "wait_interval": 0
     }
    },
    "colab_type": "code",
    "id": "W96WZbx-ES2p"
   },
   "outputs": [],
   "source": []
  },
  {
   "cell_type": "code",
   "execution_count": 10,
   "metadata": {
    "colab": {
     "autoexec": {
      "startup": false,
      "wait_interval": 0
     }
    },
    "colab_type": "code",
    "id": "3nq6K9DVKau5"
   },
   "outputs": [],
   "source": [
    "fibans_suspect = np.array(['NL57 ARBN 6235 3382 93', 'NL09 C0BA 9088 1794 75', 'NL5I FVLB 4249 7745 45', 'NL73 BCIT 1427 5181 56', 'NL92 BCIT 2066 7794 36', 'NL67 FTSB 3188 3991 40', 'NL82 GILL 5931 7640 18'])\n",
    "(judgement, index) = validate_fibans(fibans_suspect)\n"
   ]
  },
  {
   "cell_type": "code",
   "execution_count": 11,
   "metadata": {
    "colab": {
     "autoexec": {
      "startup": false,
      "wait_interval": 0
     },
     "base_uri": "https://localhost:8080/",
     "height": 83,
     "output_extras": [
      {
       "item_id": 1
      }
     ]
    },
    "colab_type": "code",
    "executionInfo": {
     "elapsed": 503,
     "status": "ok",
     "timestamp": 1520951419205,
     "user": {
      "displayName": "rik",
      "photoUrl": "//lh6.googleusercontent.com/-ZGIi-vN4KMU/AAAAAAAAAAI/AAAAAAAAAFk/Ki-nNio6VVM/s50-c-k-no/photo.jpg",
      "userId": "113719912521762461555"
     },
     "user_tz": -60
    },
    "id": "-A8JN0jZl5Vc",
    "outputId": "da6af839-0952-416e-c9f0-ce56502556f1"
   },
   "outputs": [
    {
     "name": "stdout",
     "output_type": "stream",
     "text": [
      "['NL54 ABNA 0473 1693 71']\n",
      "(True, array([ True]))\n",
      "['NL54 ABNA 1473 1693 71']\n",
      "(False, array([False]))\n"
     ]
    }
   ],
   "source": [
    "# from https://tsociety.io\n",
    "cturban = 'NL54ABNA0473169371'\n",
    "turban = IBAN(cturban)\n",
    "fturbans = [turban.formatted]\n",
    "\n",
    "print(fturbans)\n",
    "print(validate_fibans(fturbans))\n",
    "\n",
    "fturbans_plus = mutilate_strings(fturbans, mode='plus')\n",
    "print(fturbans_plus)\n",
    "print(validate_fibans(fturbans_plus))\n",
    "\n"
   ]
  },
  {
   "cell_type": "markdown",
   "metadata": {
    "colab": {
     "autoexec": {
      "startup": false,
      "wait_interval": 0
     }
    },
    "colab_type": "code",
    "id": "WOxG-FBlAe8e"
   },
   "source": [
    "# plan\n",
    "Generate 4 different versions of the same IBANs, keep the intact IBAN as a training target.\n",
    "\n",
    "Store in four different files. Two columns per file: x and y, both as strings.\n",
    "\n",
    "## Better plan\n",
    "generate as above, but save mutilated IBANs in files that contain all 5 fields, for future stacker to chew on. Leave the 4 other fields empty for now. Also save the true IBANs in a file like that. Make rows correspond to each other using (fake) uuid's.\n",
    "```\n",
    "fake_uuid     x_name, x_kvk, x_iban, x_reference, x_total\n",
    "\n",
    "fake_uuid     y_name, y_kvk, y_iban, y_reference, y_total\n",
    "```"
   ]
  },
  {
   "cell_type": "code",
   "execution_count": 12,
   "metadata": {},
   "outputs": [],
   "source": [
    "PLENTY = 47000\n",
    "plentyname = \"47k\"\n"
   ]
  },
  {
   "cell_type": "code",
   "execution_count": 13,
   "metadata": {
    "colab": {
     "autoexec": {
      "startup": false,
      "wait_interval": 0
     },
     "base_uri": "https://localhost:8080/",
     "height": 54,
     "output_extras": [
      {
       "item_id": 1
      }
     ]
    },
    "colab_type": "code",
    "executionInfo": {
     "elapsed": 208280,
     "status": "ok",
     "timestamp": 1520956296480,
     "user": {
      "displayName": "rik",
      "photoUrl": "//lh6.googleusercontent.com/-ZGIi-vN4KMU/AAAAAAAAAAI/AAAAAAAAAFk/Ki-nNio6VVM/s50-c-k-no/photo.jpg",
      "userId": "113719912521762461555"
     },
     "user_tz": -60
    },
    "id": "7sYnUhdSAfZ3",
    "outputId": "a7b9a622-90e4-40fb-d6d6-9ea48ab05f1c"
   },
   "outputs": [],
   "source": [
    "fibans = generate_random_fibans(PLENTY)  # 1M in 210 seconds, including the mutilations\n",
    "\n",
    "fibans_v1 = mutilate_strings(fibans, mode='insval', num_mutils=4)   # insert 4 extra chars\n",
    "fibans_v1 = mutilate_strings(fibans_v1, mode='lower')               # change 1 UPPER to lower case\n",
    "fibans_v1 = mutilate_strings(fibans_v1, mode='del', num_mutils=2)  # delete 2 chars\n",
    "\n",
    "fibans_v2 = mutilate_strings(fibans, mode='insval', num_mutils=2)   # insert 2 extra chars\n",
    "fibans_v2 = mutilate_strings(fibans_v2, mode='del', num_mutils=2)   # delete 2 chars\n",
    "fibans_v2 = mutilate_strings(fibans_v2, mode='inswhite', num_mutils=6)   # insert 6 whitespaces\n",
    "\n",
    "fibans_v3 = mutilate_strings(fibans, mode='del', num_mutils=4)      # delete 4 chars\n",
    "\n",
    "fibans_v4 = mutilate_strings(fibans, mode='insinv', num_mutils=4)      # insert 4 invalid chars\n",
    "\n",
    "fake_uuids = []\n",
    "nans = []\n",
    "for _ in fibans:\n",
    "    fake_uuids.append(str(uuid.uuid4()))\n",
    "    nans.append('NaN')\n",
    "#\n"
   ]
  },
  {
   "cell_type": "code",
   "execution_count": 14,
   "metadata": {
    "colab": {
     "autoexec": {
      "startup": false,
      "wait_interval": 0
     }
    },
    "colab_type": "code",
    "id": "B9HHCWrnCK1R"
   },
   "outputs": [],
   "source": [
    "train_dir = \"./train_G_iban/\"\n",
    "\n",
    "COLUMNS = ['uuid', 'x_name', 'x_kvk', 'x_iban', 'x_reference', 'x_total']\n",
    "\n",
    "train = pd.DataFrame(columns=COLUMNS)\n",
    "train['uuid']   = fake_uuids\n",
    "train['x_name']   = nans\n",
    "train['x_kvk']   = nans\n",
    "train['x_iban']   = fibans_v1\n",
    "train['x_reference']   = nans\n",
    "train['x_total']   = nans\n",
    "train.to_csv(train_dir + 'iban_predicted_GX1_{}.csv'.format(plentyname), index=False)\n",
    "\n",
    "train = pd.DataFrame(columns=COLUMNS)\n",
    "train['uuid']   = fake_uuids\n",
    "train['x_name']   = nans\n",
    "train['x_kvk']   = nans\n",
    "train['x_iban']   = fibans_v2\n",
    "train['x_reference']   = nans\n",
    "train['x_total']   = nans\n",
    "train.to_csv(train_dir + 'iban_predicted_GX2_{}.csv'.format(plentyname), index=False)\n",
    "\n",
    "train = pd.DataFrame(columns=COLUMNS)\n",
    "train['uuid']   = fake_uuids\n",
    "train['x_name']   = nans\n",
    "train['x_kvk']   = nans\n",
    "train['x_iban']   = fibans_v3\n",
    "train['x_reference']   = nans\n",
    "train['x_total']   = nans\n",
    "train.to_csv(train_dir + 'iban_predicted_GX3_{}.csv'.format(plentyname), index=False)\n",
    "\n",
    "train = pd.DataFrame(columns=COLUMNS)\n",
    "train['uuid']   = fake_uuids\n",
    "train['x_name']   = nans\n",
    "train['x_kvk']   = nans\n",
    "train['x_iban']   = fibans_v4\n",
    "train['x_reference']   = nans\n",
    "train['x_total']   = nans\n",
    "train.to_csv(train_dir + 'iban_predicted_GX4_{}.csv'.format(plentyname), index=False)\n",
    "\n",
    "# save the truth in a similar file\n",
    "COLUMNS = ['uuid', 'y_name', 'y_kvk', 'y_iban', 'y_reference', 'y_total']\n",
    "\n",
    "truth = pd.DataFrame(columns=COLUMNS)\n",
    "truth['uuid']   = fake_uuids\n",
    "truth['y_name']   = nans\n",
    "truth['y_kvk']   = nans\n",
    "truth['y_iban']   = fibans\n",
    "truth['y_reference']   = nans\n",
    "truth['y_total']   = nans\n",
    "truth.to_csv(train_dir + 'iban_truth_GY_{}.csv'.format(plentyname), index=False)\n",
    "\n"
   ]
  },
  {
   "cell_type": "code",
   "execution_count": 15,
   "metadata": {
    "colab": {
     "autoexec": {
      "startup": false,
      "wait_interval": 0
     },
     "base_uri": "https://localhost:8080/",
     "height": 222,
     "output_extras": [
      {
       "item_id": 1
      }
     ]
    },
    "colab_type": "code",
    "executionInfo": {
     "elapsed": 413,
     "status": "ok",
     "timestamp": 1520962145645,
     "user": {
      "displayName": "rik",
      "photoUrl": "//lh6.googleusercontent.com/-ZGIi-vN4KMU/AAAAAAAAAAI/AAAAAAAAAFk/Ki-nNio6VVM/s50-c-k-no/photo.jpg",
      "userId": "113719912521762461555"
     },
     "user_tz": -60
    },
    "id": "L_Zww8dZCHHy",
    "outputId": "b7227a0f-7ee1-49a9-9537-0a9960bf6c59"
   },
   "outputs": [
    {
     "data": {
      "text/html": [
       "<div>\n",
       "<style scoped>\n",
       "    .dataframe tbody tr th:only-of-type {\n",
       "        vertical-align: middle;\n",
       "    }\n",
       "\n",
       "    .dataframe tbody tr th {\n",
       "        vertical-align: top;\n",
       "    }\n",
       "\n",
       "    .dataframe thead th {\n",
       "        text-align: right;\n",
       "    }\n",
       "</style>\n",
       "<table border=\"1\" class=\"dataframe\">\n",
       "  <thead>\n",
       "    <tr style=\"text-align: right;\">\n",
       "      <th></th>\n",
       "      <th>uuid</th>\n",
       "      <th>y_name</th>\n",
       "      <th>y_kvk</th>\n",
       "      <th>y_iban</th>\n",
       "      <th>y_reference</th>\n",
       "      <th>y_total</th>\n",
       "    </tr>\n",
       "  </thead>\n",
       "  <tbody>\n",
       "    <tr>\n",
       "      <th>0</th>\n",
       "      <td>a6ec0d75-f2d3-4965-b626-fca8fe70c286</td>\n",
       "      <td>NaN</td>\n",
       "      <td>NaN</td>\n",
       "      <td>NL80 COBA 0969 0380 25</td>\n",
       "      <td>NaN</td>\n",
       "      <td>NaN</td>\n",
       "    </tr>\n",
       "    <tr>\n",
       "      <th>1</th>\n",
       "      <td>9ababcab-b944-4c15-a192-a57ee63a5ebd</td>\n",
       "      <td>NaN</td>\n",
       "      <td>NaN</td>\n",
       "      <td>NL32 BCIT 8598 1422 38</td>\n",
       "      <td>NaN</td>\n",
       "      <td>NaN</td>\n",
       "    </tr>\n",
       "    <tr>\n",
       "      <th>2</th>\n",
       "      <td>eb0715a4-d68f-4ac4-a6ab-429afb27cb24</td>\n",
       "      <td>NaN</td>\n",
       "      <td>NaN</td>\n",
       "      <td>NL47 DNIB 3721 8240 06</td>\n",
       "      <td>NaN</td>\n",
       "      <td>NaN</td>\n",
       "    </tr>\n",
       "    <tr>\n",
       "      <th>3</th>\n",
       "      <td>d71c3ace-7083-4c31-a52e-d4ae0afba8f7</td>\n",
       "      <td>NaN</td>\n",
       "      <td>NaN</td>\n",
       "      <td>NL04 RBRB 8108 2396 61</td>\n",
       "      <td>NaN</td>\n",
       "      <td>NaN</td>\n",
       "    </tr>\n",
       "    <tr>\n",
       "      <th>4</th>\n",
       "      <td>1e310847-f7e4-40f8-9d58-2441fc585902</td>\n",
       "      <td>NaN</td>\n",
       "      <td>NaN</td>\n",
       "      <td>NL19 BOFA 7398 1591 18</td>\n",
       "      <td>NaN</td>\n",
       "      <td>NaN</td>\n",
       "    </tr>\n",
       "  </tbody>\n",
       "</table>\n",
       "</div>"
      ],
      "text/plain": [
       "                                   uuid y_name y_kvk                  y_iban  \\\n",
       "0  a6ec0d75-f2d3-4965-b626-fca8fe70c286    NaN   NaN  NL80 COBA 0969 0380 25   \n",
       "1  9ababcab-b944-4c15-a192-a57ee63a5ebd    NaN   NaN  NL32 BCIT 8598 1422 38   \n",
       "2  eb0715a4-d68f-4ac4-a6ab-429afb27cb24    NaN   NaN  NL47 DNIB 3721 8240 06   \n",
       "3  d71c3ace-7083-4c31-a52e-d4ae0afba8f7    NaN   NaN  NL04 RBRB 8108 2396 61   \n",
       "4  1e310847-f7e4-40f8-9d58-2441fc585902    NaN   NaN  NL19 BOFA 7398 1591 18   \n",
       "\n",
       "  y_reference y_total  \n",
       "0         NaN     NaN  \n",
       "1         NaN     NaN  \n",
       "2         NaN     NaN  \n",
       "3         NaN     NaN  \n",
       "4         NaN     NaN  "
      ]
     },
     "execution_count": 15,
     "metadata": {},
     "output_type": "execute_result"
    }
   ],
   "source": [
    "truth.head()"
   ]
  },
  {
   "cell_type": "code",
   "execution_count": 16,
   "metadata": {
    "colab": {
     "autoexec": {
      "startup": false,
      "wait_interval": 0
     },
     "base_uri": "https://localhost:8080/",
     "height": 87,
     "output_extras": [
      {
       "item_id": 1
      }
     ]
    },
    "colab_type": "code",
    "executionInfo": {
     "elapsed": 1709,
     "status": "ok",
     "timestamp": 1520962152606,
     "user": {
      "displayName": "rik",
      "photoUrl": "//lh6.googleusercontent.com/-ZGIi-vN4KMU/AAAAAAAAAAI/AAAAAAAAAFk/Ki-nNio6VVM/s50-c-k-no/photo.jpg",
      "userId": "113719912521762461555"
     },
     "user_tz": -60
    },
    "id": "Vk8QmRX1aItX",
    "outputId": "49aae42b-315a-430a-9af1-3330f227e179"
   },
   "outputs": [
    {
     "name": "stdout",
     "output_type": "stream",
     "text": [
      "total 17880\r\n",
      "-rw-rw-r-- 1 paperspace paperspace 3669791 Mar 16 14:47 iban_predicted_GX1_47k.csv\r\n",
      "-rw-rw-r-- 1 paperspace paperspace 3858155 Mar 16 14:47 iban_predicted_GX2_47k.csv\r\n",
      "-rw-rw-r-- 1 paperspace paperspace 3393175 Mar 16 14:47 iban_predicted_GX3_47k.csv\r\n",
      "-rw-rw-r-- 1 paperspace paperspace 3808344 Mar 16 14:47 iban_predicted_GX4_47k.csv\r\n",
      "-rw-rw-r-- 1 paperspace paperspace 3572045 Mar 16 14:47 iban_truth_GY_47k.csv\r\n"
     ]
    }
   ],
   "source": [
    "! ls -ltr {train_dir}\n"
   ]
  },
  {
   "cell_type": "code",
   "execution_count": null,
   "metadata": {
    "colab": {
     "autoexec": {
      "startup": false,
      "wait_interval": 0
     },
     "base_uri": "https://localhost:8080/",
     "height": 54,
     "output_extras": [
      {
       "item_id": 1
      }
     ]
    },
    "colab_type": "code",
    "executionInfo": {
     "elapsed": 8436,
     "status": "ok",
     "timestamp": 1520962352671,
     "user": {
      "displayName": "rik",
      "photoUrl": "//lh6.googleusercontent.com/-ZGIi-vN4KMU/AAAAAAAAAAI/AAAAAAAAAFk/Ki-nNio6VVM/s50-c-k-no/photo.jpg",
      "userId": "113719912521762461555"
     },
     "user_tz": -60
    },
    "id": "pK3pecQsa3-9",
    "outputId": "9ea0b982-fcf6-4b70-9a04-0947e58f63a9"
   },
   "outputs": [],
   "source": []
  },
  {
   "cell_type": "code",
   "execution_count": null,
   "metadata": {},
   "outputs": [],
   "source": []
  }
 ],
 "metadata": {
  "colab": {
   "collapsed_sections": [],
   "default_view": {},
   "name": "Wk6 Ortec IBAN generation.ipynb",
   "provenance": [],
   "version": "0.3.2",
   "views": {}
  },
  "kernelspec": {
   "display_name": "Python 3",
   "language": "python",
   "name": "python3"
  },
  "language_info": {
   "codemirror_mode": {
    "name": "ipython",
    "version": 3
   },
   "file_extension": ".py",
   "mimetype": "text/x-python",
   "name": "python",
   "nbconvert_exporter": "python",
   "pygments_lexer": "ipython3",
   "version": "3.6.4"
  }
 },
 "nbformat": 4,
 "nbformat_minor": 1
}
