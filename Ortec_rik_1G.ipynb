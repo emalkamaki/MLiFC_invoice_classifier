{
 "cells": [
  {
   "cell_type": "markdown",
   "metadata": {
    "colab_type": "text",
    "id": "gUH91JWlJAQX"
   },
   "source": [
    "# Ortec_rik_1G\n",
    "\n",
    "Takes altered output of create_invoice.py\n",
    "\n",
    "## Invoice reading NLP system\n",
    "Remember this image? IT IS BACK!!!\n",
    "![System image](https://storage.googleapis.com/aibootcamp/general_assets/ml_system_architecture.png)\n",
    "\n",
    "\n",
    "This week is all about system building. Because hardly ever does a ML system stand alone. Your success in building a system for Ortec Finance depends as much on what is around your neural net as it depends on the neural net itself. This baseline is my approach to the problem. Much in this notebook was hacked together so I am sure you can improve on many points. Perhaps you even come up with a completely different approach.\n",
    "\n",
    "## The approach, character wise classification:\n",
    "The goal of the task is to extract information from the invoice. The invoice has been run through optical character recognition (OCR). OCR turns PDFs into texts but often messes up the order and confuses come characters. **To extract information from this text, we classify each character by category**. \n",
    "\n",
    "Take an example, if we just wanted to get the amount we would classify the characters like this:\n",
    "\n",
    "|T|O|T|A|L|:| |€| |4|3|6|.|0|0|\n",
    "|-|-|-|-|-|-|-|-|-|-|-|-|-|-|-|\n",
    "|0|0|0|0|0|0|0|1|1|1|1|1|1|1|1|\n",
    "\n",
    "We classify our text into 6 classes here:\n",
    "\n",
    "Ignore:           0\n",
    "Sender Name:      1 \n",
    "Sender KVK:       2 \n",
    "Sender IBAN:      3 \n",
    "Invoice Reference:4\n",
    "Total:            5\n",
    "\n",
    "These are the classes that the training data generator tags. But the class of a character does not only depend on the character. It depends on its surroundings as well. To train our model, we create substrings of our invoice that include a certain amount of preceeding and succeeding characters. The amount of preceding and succeeding characters is defined in the `PADDING` global variable. \n",
    "\n",
    "If for example we wanted to classify the character '€' from the example above and had `PADDING = 3` we would feed\n",
    "'L: € 43' into our network. You can see how the amount of padding has a great influence on the performance of our system.\n",
    "\n",
    "## Post processing:\n",
    "A significant part of model performance stems from what is done with the outputs of the neural net. This approach groups predictions to prediction sequences and only keeps predictions in which 5 consecutive characters were grouped into the same category. An approach to try would be to allow sequences to be interrupted by one character. Another nice add on would be to rank predicted sequences by the total confidence the neural network has in the sequence. \n",
    "\n",
    "## Some tips:\n",
    "For this assignment you can dive pretty deep into software development. \n",
    "You might find these jupyter tricks helpful: https://www.dataquest.io/blog/jupyter-notebook-tips-tricks-shortcuts/\n",
    "\n",
    "Especially debugging with `pdb` really makes things easier: https://docs.python.org/3.5/library/pdb.html#debugger-commands\n",
    "\n",
    "Basically, if anything crashes, you can start a new cell and enter `%debug`. You then come to a command line in which you can look around what happened at the crash.\n",
    "The debugger has some special commands. For example `p my_var` prints out a variable. This also works for other python operations, e.g. `p len(my_list)`.\n",
    "\n",
    "Good luck with building a great system!"
   ]
  },
  {
   "cell_type": "code",
   "execution_count": 1,
   "metadata": {
    "colab": {
     "autoexec": {
      "startup": false,
      "wait_interval": 0
     },
     "base_uri": "https://localhost:8080/",
     "height": 204,
     "output_extras": [
      {
       "item_id": 2
      }
     ]
    },
    "colab_type": "code",
    "executionInfo": {
     "elapsed": 2055,
     "status": "ok",
     "timestamp": 1521391182078,
     "user": {
      "displayName": "Jannes Klaas",
      "photoUrl": "https://lh3.googleusercontent.com/a/default-user=s128",
      "userId": "115843019312458301179"
     },
     "user_tz": -60
    },
    "id": "J_mZzOVTJT6D",
    "outputId": "1dcb6bcb-c8fe-4554-def7-37b88746bc85"
   },
   "outputs": [],
   "source": [
    "# Setup \n",
    "# !wget https://storage.googleapis.com/aibootcamp/data/ortec_templates_updated.zip"
   ]
  },
  {
   "cell_type": "code",
   "execution_count": 2,
   "metadata": {
    "colab": {
     "autoexec": {
      "startup": false,
      "wait_interval": 0
     },
     "base_uri": "https://localhost:8080/",
     "height": 34,
     "output_extras": [
      {
       "item_id": 1
      }
     ]
    },
    "colab_type": "code",
    "executionInfo": {
     "elapsed": 1431,
     "status": "ok",
     "timestamp": 1521391186556,
     "user": {
      "displayName": "Jannes Klaas",
      "photoUrl": "https://lh3.googleusercontent.com/a/default-user=s128",
      "userId": "115843019312458301179"
     },
     "user_tz": -60
    },
    "id": "6hjsuqgc-uCS",
    "outputId": "25fd7fd6-993d-4ac7-eab9-d6ddcb4426e1"
   },
   "outputs": [],
   "source": [
    "# !ls"
   ]
  },
  {
   "cell_type": "code",
   "execution_count": 3,
   "metadata": {
    "colab": {
     "autoexec": {
      "startup": false,
      "wait_interval": 0
     },
     "base_uri": "https://localhost:8080/",
     "height": 323,
     "output_extras": [
      {
       "item_id": 1
      }
     ]
    },
    "colab_type": "code",
    "executionInfo": {
     "elapsed": 1385,
     "status": "ok",
     "timestamp": 1521391189026,
     "user": {
      "displayName": "Jannes Klaas",
      "photoUrl": "https://lh3.googleusercontent.com/a/default-user=s128",
      "userId": "115843019312458301179"
     },
     "user_tz": -60
    },
    "id": "qXnlL2boJjII",
    "outputId": "f692a0fc-722d-43b5-a60a-0bb36e8383e5"
   },
   "outputs": [],
   "source": [
    "# !unzip  ortec_templates_updated.zip"
   ]
  },
  {
   "cell_type": "code",
   "execution_count": 4,
   "metadata": {
    "colab": {
     "autoexec": {
      "startup": false,
      "wait_interval": 0
     },
     "base_uri": "https://localhost:8080/",
     "height": 34,
     "output_extras": [
      {
       "item_id": 1
      }
     ]
    },
    "colab_type": "code",
    "executionInfo": {
     "elapsed": 1582,
     "status": "ok",
     "timestamp": 1521391192887,
     "user": {
      "displayName": "Jannes Klaas",
      "photoUrl": "https://lh3.googleusercontent.com/a/default-user=s128",
      "userId": "115843019312458301179"
     },
     "user_tz": -60
    },
    "id": "_DnStomIJjRk",
    "outputId": "3e919386-ec8c-4080-d6af-122f20dcef9d"
   },
   "outputs": [],
   "source": [
    "# !ls"
   ]
  },
  {
   "cell_type": "code",
   "execution_count": 5,
   "metadata": {
    "colab": {
     "autoexec": {
      "startup": false,
      "wait_interval": 0
     }
    },
    "colab_type": "code",
    "id": "caddquRKJ2vC"
   },
   "outputs": [],
   "source": [
    "# !pip install -q keras"
   ]
  },
  {
   "cell_type": "markdown",
   "metadata": {
    "colab_type": "text",
    "id": "i3EuDqPXJAQZ"
   },
   "source": [
    "## Loading templates"
   ]
  },
  {
   "cell_type": "code",
   "execution_count": 6,
   "metadata": {
    "colab": {
     "autoexec": {
      "startup": false,
      "wait_interval": 0
     }
    },
    "colab_type": "code",
    "id": "Mq9VfteLJAQZ"
   },
   "outputs": [],
   "source": [
    "# System hyper parameters here\n",
    "\n",
    "# How many characters before and after the main char to feed the NN\n",
    "PADDING = 20 \n",
    "\n",
    "\n",
    "'''\n",
    "Ignore:           0\n",
    "Sender Name:      1 \n",
    "Sender KVK:       2 \n",
    "Sender IBAN:      3 \n",
    "Invoice Reference:4\n",
    "Total:            5\n",
    "'''\n",
    "N_CLASSES = 6"
   ]
  },
  {
   "cell_type": "code",
   "execution_count": 7,
   "metadata": {
    "colab": {
     "autoexec": {
      "startup": false,
      "wait_interval": 0
     }
    },
    "colab_type": "code",
    "id": "B5nyjD3ZJAQd"
   },
   "outputs": [],
   "source": [
    "# Invoice data generator\n",
    "%load_ext autoreload\n",
    "%autoreload 2\n",
    "\n",
    "from templates.invoicegen import create_invoice"
   ]
  },
  {
   "cell_type": "code",
   "execution_count": 8,
   "metadata": {
    "colab": {
     "autoexec": {
      "startup": false,
      "wait_interval": 0
     },
     "base_uri": "https://localhost:8080/",
     "height": 34,
     "output_extras": [
      {
       "item_id": 1
      }
     ]
    },
    "colab_type": "code",
    "executionInfo": {
     "elapsed": 1307,
     "status": "ok",
     "timestamp": 1521218480193,
     "user": {
      "displayName": "Jannes Klaas",
      "photoUrl": "https://lh3.googleusercontent.com/a/default-user=s128",
      "userId": "115843019312458301179"
     },
     "user_tz": -60
    },
    "id": "U80fgzU4JAQg",
    "outputId": "4d352e84-47a2-4400-83d3-2a5848aea393"
   },
   "outputs": [
    {
     "name": "stderr",
     "output_type": "stream",
     "text": [
      "/home/paperspace/anaconda3/envs/bletchley/lib/python3.6/site-packages/h5py/__init__.py:36: FutureWarning: Conversion of the second argument of issubdtype from `float` to `np.floating` is deprecated. In future, it will be treated as `np.float64 == np.dtype(float).type`.\n",
      "  from ._conv import register_converters as _register_converters\n",
      "Using TensorFlow backend.\n"
     ]
    }
   ],
   "source": [
    "\n",
    "# Your friendly tokenizer\n",
    "from keras.preprocessing.text import Tokenizer\n",
    "\n",
    "# Numpy\n",
    "import numpy as np"
   ]
  },
  {
   "cell_type": "code",
   "execution_count": 9,
   "metadata": {
    "colab": {
     "autoexec": {
      "startup": false,
      "wait_interval": 0
     }
    },
    "colab_type": "code",
    "id": "h8AtNKmOJAQn"
   },
   "outputs": [],
   "source": [
    "# Create 100 invoices for each template\n",
    "\n",
    "invoices = []\n",
    "targets = []\n",
    "\n",
    "# Load template 1\n",
    "with open('templates/TEMPLATE_1.txt', 'r') as content_file:\n",
    "    content = content_file.read()\n",
    "\n",
    "# Create invoices from template\n",
    "for i in range(100):\n",
    "    inv, tar, truth = create_invoice(content)\n",
    "    invoices.append(inv)\n",
    "    targets.append(tar)\n",
    "    \n",
    "# Load template 2\n",
    "with open('templates/TEMPLATE_2.txt', 'r') as content_file:\n",
    "    content = content_file.read()\n",
    "    \n",
    "# Create invoices from template\n",
    "for i in range(100):\n",
    "    inv, tar, truth = create_invoice(content)\n",
    "    invoices.append(inv)\n",
    "    targets.append(tar)"
   ]
  },
  {
   "cell_type": "code",
   "execution_count": 10,
   "metadata": {
    "colab": {
     "autoexec": {
      "startup": false,
      "wait_interval": 0
     },
     "base_uri": "https://localhost:8080/",
     "height": 34,
     "output_extras": [
      {
       "item_id": 1
      }
     ]
    },
    "colab_type": "code",
    "executionInfo": {
     "elapsed": 435,
     "status": "ok",
     "timestamp": 1521218483942,
     "user": {
      "displayName": "Jannes Klaas",
      "photoUrl": "https://lh3.googleusercontent.com/a/default-user=s128",
      "userId": "115843019312458301179"
     },
     "user_tz": -60
    },
    "id": "5U69d52YJAQr",
    "outputId": "4317258a-6000-4dea-e440-09a8a8c6ae1d"
   },
   "outputs": [
    {
     "data": {
      "text/plain": [
       "200"
      ]
     },
     "execution_count": 10,
     "metadata": {},
     "output_type": "execute_result"
    }
   ],
   "source": [
    "len(targets)"
   ]
  },
  {
   "cell_type": "markdown",
   "metadata": {
    "colab_type": "text",
    "id": "Xwm5ToJGJAQv"
   },
   "source": [
    "## Generate substring"
   ]
  },
  {
   "cell_type": "code",
   "execution_count": 11,
   "metadata": {
    "colab": {
     "autoexec": {
      "startup": false,
      "wait_interval": 0
     }
    },
    "colab_type": "code",
    "id": "Lv7HCR6ZJAQv"
   },
   "outputs": [],
   "source": [
    "# Create our tokenizer\n",
    "# We will tokenize on character level!\n",
    "# We will NOT remove any characters\n",
    "tokenizer = Tokenizer(char_level=True, filters=None)\n",
    "tokenizer.fit_on_texts(invoices)"
   ]
  },
  {
   "cell_type": "code",
   "execution_count": 12,
   "metadata": {
    "colab": {
     "autoexec": {
      "startup": false,
      "wait_interval": 0
     }
    },
    "colab_type": "code",
    "id": "fardNlOkJAQz"
   },
   "outputs": [],
   "source": [
    "def gen_sub(inv,tar,pad, m = None):\n",
    "    '''\n",
    "    Generates a substring from invoice inv and target list tar \n",
    "    using the character at index m as a midpoint.\n",
    "    \n",
    "    Params:\n",
    "    inv - an invoice string\n",
    "    tar - a target list specifying the type of each item\n",
    "    pad - the amount of padding to attach before and after the focus character\n",
    "    \n",
    "    Returns:\n",
    "    sub - a string with pad characters, the focus character, pad characters\n",
    "    '''\n",
    "    # If no focus character index is set, choose at random\n",
    "    if m == None:\n",
    "        m = np.random.randint(0,len(inv))\n",
    "        \n",
    "    l = m - pad # define the lower bound of our substring\n",
    "    h = m + pad + 1 # define the upper (high) of our substring\n",
    "\n",
    "    # Sometimes, our lower bound could be below zero\n",
    "    # In this case we attach the remaining characters from the back of the string\n",
    "    if l < 0:\n",
    "        # Get the characters from the back of the file\n",
    "        s1 = inv[l:None]\n",
    "        \n",
    "        # Edge case: Sample size larger than string\n",
    "        # Our upper bound might be higher than the lenth of the text\n",
    "        # In that case we start from the front again\n",
    "        if h >= len(inv): \n",
    "            # How many characters do we need from the front\n",
    "            overlap = h - len(inv)\n",
    "            # The string is the entire invoice + some chars from the front\n",
    "            s2 = inv\n",
    "            s_over = inv[None:overlap]\n",
    "            s2 = s2 + s_over\n",
    "        else:\n",
    "            # If we don't need chars from the front \n",
    "            # we can just select to the upper bound\n",
    "            s2 = inv[None:h]\n",
    "            \n",
    "        # Create substring\n",
    "        sub = s1 + s2\n",
    "        # Ensure the substring has the right length\n",
    "        assert(len(sub) == pad*2 +1)\n",
    "        return sub, tar[m]\n",
    "    \n",
    "    # Our lower bound might be positive but our upper bound might \n",
    "    # still be above the length of the invoice\n",
    "    elif h >= len(inv):\n",
    "        # Calc how many chars we need from the front\n",
    "        overlap = h - len(inv)\n",
    "        \n",
    "        # Get string from lower bound to end\n",
    "        s1 = inv[l:None]\n",
    "        # Get string from the front of the doc\n",
    "        s2 = inv[None:overlap]\n",
    "        sub = s1 + s2\n",
    "        # Make sure our string has the correct length\n",
    "        assert(len(sub) == pad*2 +1)\n",
    "        return sub, tar[m]\n",
    "    \n",
    "    # Upper and lower bound lie within the length of the invoice\n",
    "    else: \n",
    "        sub = inv[l:h]\n",
    "        assert(len(sub) == pad*2 +1)\n",
    "        return sub, tar[m]"
   ]
  },
  {
   "cell_type": "markdown",
   "metadata": {
    "colab_type": "text",
    "id": "LloL1ejTJAQ5"
   },
   "source": [
    "## Generate dataset for training"
   ]
  },
  {
   "cell_type": "code",
   "execution_count": 13,
   "metadata": {
    "colab": {
     "autoexec": {
      "startup": false,
      "wait_interval": 0
     }
    },
    "colab_type": "code",
    "id": "O1rC068zJAQ5"
   },
   "outputs": [],
   "source": [
    "def gen_dataset(sample_size, n_classes, invoices, targets, tokenizer):\n",
    "    '''\n",
    "    Generate a dataset of inputs and outputs for our neural network\n",
    "    \n",
    "    Params:\n",
    "    sample_size - desired sample size\n",
    "    n_classes - number of classes\n",
    "    invoices - list of invoices to sample from\n",
    "    targets - list of corresonding targets to sample from\n",
    "    tokenizer - a keras tokenizer fit on the invoices\n",
    "    \n",
    "    The function creates balanced samples by randomly sampling untill \n",
    "    an equal amount of samples of all types is created.\n",
    "    \n",
    "    Characters are one hot encoded\n",
    "    \n",
    "    Returns:\n",
    "    x_arr: a numpy array of shape (sample_size, seqence length, number of unique characters)\n",
    "    y_arr: a numpy array of shape (sample_size,)\n",
    "    '''\n",
    "    \n",
    "    # Create a budget\n",
    "    budget = [sample_size / n_classes] * n_classes\n",
    "    \n",
    "    # Setup holding variables\n",
    "    X_train = []\n",
    "    y_train = []\n",
    "\n",
    "    # While there is still a budget left...\n",
    "    while sum(budget) > 0:\n",
    "        # ... get a random invoice and target list\n",
    "        index = np.random.randint(0,len(invoices))\n",
    "        inv = invoices[index]\n",
    "        tar = targets[index]\n",
    "        # ... sample up to 10 items from this invoice \n",
    "        for j in range(10):\n",
    "            # Get an item\n",
    "            x, y = gen_sub(inv,tar,PADDING)\n",
    "            # if we still have a budget for this items target\n",
    "            if budget[y] > 0:\n",
    "                # Tokenize to one hot\n",
    "                xm = tokenizer.texts_to_matrix(x)\n",
    "                # Add data and target\n",
    "                X_train.append(xm)\n",
    "                y_train.append(y)\n",
    "                budget[y] -= 1\n",
    "      \n",
    "    # Create numpy arrays from all data and targets\n",
    "    x_arr = np.array(X_train)\n",
    "    y_arr = np.array(y_train)\n",
    "    return x_arr,y_arr"
   ]
  },
  {
   "cell_type": "code",
   "execution_count": 14,
   "metadata": {
    "colab": {
     "autoexec": {
      "startup": false,
      "wait_interval": 0
     }
    },
    "colab_type": "code",
    "id": "yGA5pV-3JAQ8"
   },
   "outputs": [],
   "source": [
    "# Ger data\n",
    "train_size = 12000\n",
    "val_size = 120\n",
    "\n",
    "x_tr, y_tr = gen_dataset(train_size, N_CLASSES, invoices, targets, tokenizer)\n",
    "x_val, y_val = gen_dataset(val_size, N_CLASSES, invoices, targets, tokenizer)"
   ]
  },
  {
   "cell_type": "code",
   "execution_count": 15,
   "metadata": {
    "colab": {
     "autoexec": {
      "startup": false,
      "wait_interval": 0
     },
     "base_uri": "https://localhost:8080/",
     "height": 34,
     "output_extras": [
      {
       "item_id": 1
      }
     ]
    },
    "colab_type": "code",
    "executionInfo": {
     "elapsed": 597,
     "status": "ok",
     "timestamp": 1521218498376,
     "user": {
      "displayName": "Jannes Klaas",
      "photoUrl": "https://lh3.googleusercontent.com/a/default-user=s128",
      "userId": "115843019312458301179"
     },
     "user_tz": -60
    },
    "id": "crz627iyJAQ_",
    "outputId": "8c46c2ea-85d8-49ff-96d2-d41c2590bce2"
   },
   "outputs": [
    {
     "data": {
      "text/plain": [
       "(12000, 41, 83)"
      ]
     },
     "execution_count": 15,
     "metadata": {},
     "output_type": "execute_result"
    }
   ],
   "source": [
    "x_tr.shape"
   ]
  },
  {
   "cell_type": "markdown",
   "metadata": {
    "colab_type": "text",
    "id": "82CcOTIgJARD"
   },
   "source": [
    "## Model building"
   ]
  },
  {
   "cell_type": "code",
   "execution_count": 16,
   "metadata": {
    "colab": {
     "autoexec": {
      "startup": false,
      "wait_interval": 0
     }
    },
    "colab_type": "code",
    "id": "JJ977SYzJARD"
   },
   "outputs": [],
   "source": [
    "from keras.models import Sequential\n",
    "from keras.layers import SimpleRNN, Dense,Activation, Conv1D, MaxPool1D"
   ]
  },
  {
   "cell_type": "code",
   "execution_count": 17,
   "metadata": {
    "colab": {
     "autoexec": {
      "startup": false,
      "wait_interval": 0
     }
    },
    "colab_type": "code",
    "id": "IFzNMcqSJARG"
   },
   "outputs": [],
   "source": [
    "# A simple model\n",
    "model = Sequential()\n",
    "model.add(Conv1D(32,2,input_shape=(None, 83))) # The input shape assumes there is 83 possible characters\n",
    "model.add(MaxPool1D(2))\n",
    "model.add(SimpleRNN(10))\n",
    "model.add(Dense(6))\n",
    "model.add(Activation('softmax'))"
   ]
  },
  {
   "cell_type": "code",
   "execution_count": 18,
   "metadata": {
    "colab": {
     "autoexec": {
      "startup": false,
      "wait_interval": 0
     }
    },
    "colab_type": "code",
    "id": "UNYPtr9zJARJ"
   },
   "outputs": [],
   "source": [
    "# sparse_categorical_crossentropy is like categorical crossentropy but without converting targets to one hot\n",
    "model.compile(loss='sparse_categorical_crossentropy',optimizer='adam', metrics=['acc'])"
   ]
  },
  {
   "cell_type": "code",
   "execution_count": 19,
   "metadata": {
    "colab": {
     "autoexec": {
      "startup": false,
      "wait_interval": 0
     },
     "base_uri": "https://localhost:8080/",
     "height": 275,
     "output_extras": [
      {
       "item_id": 55
      },
      {
       "item_id": 75
      },
      {
       "item_id": 76
      }
     ]
    },
    "colab_type": "code",
    "executionInfo": {
     "elapsed": 19708,
     "status": "ok",
     "timestamp": 1521218548954,
     "user": {
      "displayName": "Jannes Klaas",
      "photoUrl": "https://lh3.googleusercontent.com/a/default-user=s128",
      "userId": "115843019312458301179"
     },
     "user_tz": -60
    },
    "id": "p2JL9ObQJARL",
    "outputId": "bd5be0dc-e288-4eaa-9857-75bd57f5fc46"
   },
   "outputs": [
    {
     "name": "stdout",
     "output_type": "stream",
     "text": [
      "Train on 12000 samples, validate on 120 samples\n",
      "Epoch 1/6\n",
      "12000/12000 [==============================] - 5s 443us/step - loss: 0.9575 - acc: 0.7067 - val_loss: 0.4384 - val_acc: 0.8917\n",
      "Epoch 2/6\n",
      "12000/12000 [==============================] - 4s 295us/step - loss: 0.3102 - acc: 0.9157 - val_loss: 0.2032 - val_acc: 0.9583\n",
      "Epoch 3/6\n",
      "12000/12000 [==============================] - 3s 291us/step - loss: 0.1741 - acc: 0.9692 - val_loss: 0.0996 - val_acc: 0.9917\n",
      "Epoch 4/6\n",
      "12000/12000 [==============================] - 3s 286us/step - loss: 0.1048 - acc: 0.9863 - val_loss: 0.0685 - val_acc: 0.9917\n",
      "Epoch 5/6\n",
      "12000/12000 [==============================] - 3s 283us/step - loss: 0.0852 - acc: 0.9863 - val_loss: 0.0769 - val_acc: 0.9833\n",
      "Epoch 6/6\n",
      "12000/12000 [==============================] - 3s 286us/step - loss: 0.0627 - acc: 0.9906 - val_loss: 0.0679 - val_acc: 0.9833\n"
     ]
    },
    {
     "data": {
      "text/plain": [
       "<keras.callbacks.History at 0x7fdaa8c50d68>"
      ]
     },
     "execution_count": 19,
     "metadata": {},
     "output_type": "execute_result"
    }
   ],
   "source": [
    "model.fit(x_tr,y_tr,batch_size=32,epochs=6,validation_data=(x_val,y_val))"
   ]
  },
  {
   "cell_type": "markdown",
   "metadata": {
    "colab_type": "text",
    "id": "64vCXL2TJARO"
   },
   "source": [
    "## Generate demo invoice"
   ]
  },
  {
   "cell_type": "code",
   "execution_count": 20,
   "metadata": {
    "colab": {
     "autoexec": {
      "startup": false,
      "wait_interval": 0
     }
    },
    "colab_type": "code",
    "id": "VVq9JpSCJARO"
   },
   "outputs": [],
   "source": [
    "'''\n",
    "To make predictions from our model, we need to create \n",
    "sequences around every character from the invoice.\n",
    "\n",
    "We the making predictions for every charater based on their invoice\n",
    "'''\n",
    "\n",
    "# Choose a random invoice:\n",
    "index = np.random.randint(0,len(invoices))\n",
    "inv = invoices[index]\n",
    "tar = targets[index]\n",
    "\n",
    "\n",
    "chars = [] # Holds the individual characters\n",
    "data = [] # Holds the sequences around the characters\n",
    "y_true = [] # Holds the true targets for each character\n",
    "\n",
    "# Loop over characters indices\n",
    "for i in range(len(inv) -1):\n",
    "    # Create sequence around this character\n",
    "    x,y = gen_sub(inv,tar,PADDING,m=i)\n",
    "    # Tokenize the sequence to one hot\n",
    "    xm = tokenizer.texts_to_matrix(x)\n",
    "    # Get the character itself\n",
    "    c = inv[i]\n",
    "    \n",
    "    chars.append(c)\n",
    "    data.append(xm)\n",
    "    y_true.append(y)"
   ]
  },
  {
   "cell_type": "code",
   "execution_count": 21,
   "metadata": {
    "colab": {
     "autoexec": {
      "startup": false,
      "wait_interval": 0
     }
    },
    "colab_type": "code",
    "id": "AkoIPKFbJARS"
   },
   "outputs": [],
   "source": [
    "import pandas as pd"
   ]
  },
  {
   "cell_type": "code",
   "execution_count": 22,
   "metadata": {
    "colab": {
     "autoexec": {
      "startup": false,
      "wait_interval": 0
     }
    },
    "colab_type": "code",
    "id": "c6dsi09WJARV"
   },
   "outputs": [],
   "source": [
    "# For demo purposes we can look what our invoice looks like\n",
    "df = pd.DataFrame({'Char':chars,'Target':y_true})"
   ]
  },
  {
   "cell_type": "code",
   "execution_count": 23,
   "metadata": {
    "colab": {
     "autoexec": {
      "startup": false,
      "wait_interval": 0
     },
     "base_uri": "https://localhost:8080/",
     "height": 297,
     "output_extras": [
      {
       "item_id": 1
      }
     ]
    },
    "colab_type": "code",
    "executionInfo": {
     "elapsed": 620,
     "status": "ok",
     "timestamp": 1521218616819,
     "user": {
      "displayName": "Jannes Klaas",
      "photoUrl": "https://lh3.googleusercontent.com/a/default-user=s128",
      "userId": "115843019312458301179"
     },
     "user_tz": -60
    },
    "id": "agX4dRj0JARZ",
    "outputId": "ba66969a-9294-4077-fbb6-a5f8ea604698"
   },
   "outputs": [
    {
     "data": {
      "text/html": [
       "<div>\n",
       "<style scoped>\n",
       "    .dataframe tbody tr th:only-of-type {\n",
       "        vertical-align: middle;\n",
       "    }\n",
       "\n",
       "    .dataframe tbody tr th {\n",
       "        vertical-align: top;\n",
       "    }\n",
       "\n",
       "    .dataframe thead th {\n",
       "        text-align: right;\n",
       "    }\n",
       "</style>\n",
       "<table border=\"1\" class=\"dataframe\">\n",
       "  <thead>\n",
       "    <tr style=\"text-align: right;\">\n",
       "      <th></th>\n",
       "      <th>Char</th>\n",
       "      <th>Target</th>\n",
       "    </tr>\n",
       "  </thead>\n",
       "  <tbody>\n",
       "    <tr>\n",
       "      <th>347</th>\n",
       "      <td>1</td>\n",
       "      <td>5</td>\n",
       "    </tr>\n",
       "    <tr>\n",
       "      <th>348</th>\n",
       "      <td>6</td>\n",
       "      <td>5</td>\n",
       "    </tr>\n",
       "    <tr>\n",
       "      <th>349</th>\n",
       "      <td>7</td>\n",
       "      <td>5</td>\n",
       "    </tr>\n",
       "    <tr>\n",
       "      <th>350</th>\n",
       "      <td>2</td>\n",
       "      <td>5</td>\n",
       "    </tr>\n",
       "    <tr>\n",
       "      <th>351</th>\n",
       "      <td>3</td>\n",
       "      <td>5</td>\n",
       "    </tr>\n",
       "    <tr>\n",
       "      <th>352</th>\n",
       "      <td>.</td>\n",
       "      <td>5</td>\n",
       "    </tr>\n",
       "    <tr>\n",
       "      <th>353</th>\n",
       "      <td>6</td>\n",
       "      <td>5</td>\n",
       "    </tr>\n",
       "    <tr>\n",
       "      <th>354</th>\n",
       "      <td>3</td>\n",
       "      <td>5</td>\n",
       "    </tr>\n",
       "  </tbody>\n",
       "</table>\n",
       "</div>"
      ],
      "text/plain": [
       "    Char  Target\n",
       "347    1       5\n",
       "348    6       5\n",
       "349    7       5\n",
       "350    2       5\n",
       "351    3       5\n",
       "352    .       5\n",
       "353    6       5\n",
       "354    3       5"
      ]
     },
     "execution_count": 23,
     "metadata": {},
     "output_type": "execute_result"
    }
   ],
   "source": [
    "# Show all characters belonging to the amount\n",
    "df[df.Target == 5]"
   ]
  },
  {
   "cell_type": "code",
   "execution_count": 24,
   "metadata": {
    "colab": {
     "autoexec": {
      "startup": false,
      "wait_interval": 0
     }
    },
    "colab_type": "code",
    "id": "J0bWvclmJARg"
   },
   "outputs": [],
   "source": [
    "# Create test data for predictions with neural net\n",
    "x_test = np.array(data)"
   ]
  },
  {
   "cell_type": "code",
   "execution_count": 25,
   "metadata": {
    "colab": {
     "autoexec": {
      "startup": false,
      "wait_interval": 0
     },
     "base_uri": "https://localhost:8080/",
     "height": 34,
     "output_extras": [
      {
       "item_id": 1
      }
     ]
    },
    "colab_type": "code",
    "executionInfo": {
     "elapsed": 456,
     "status": "ok",
     "timestamp": 1521218620329,
     "user": {
      "displayName": "Jannes Klaas",
      "photoUrl": "https://lh3.googleusercontent.com/a/default-user=s128",
      "userId": "115843019312458301179"
     },
     "user_tz": -60
    },
    "id": "mH6fGzCkJARi",
    "outputId": "8e692dc6-4934-4017-f4c2-b6bce396dc37"
   },
   "outputs": [
    {
     "data": {
      "text/plain": [
       "(1609, 41, 83)"
      ]
     },
     "execution_count": 25,
     "metadata": {},
     "output_type": "execute_result"
    }
   ],
   "source": [
    "x_test.shape"
   ]
  },
  {
   "cell_type": "markdown",
   "metadata": {
    "colab_type": "text",
    "id": "_KdrkkkYJARm"
   },
   "source": [
    "## Making predictions"
   ]
  },
  {
   "cell_type": "code",
   "execution_count": 26,
   "metadata": {
    "colab": {
     "autoexec": {
      "startup": false,
      "wait_interval": 0
     }
    },
    "colab_type": "code",
    "id": "81HmeHLdJARn"
   },
   "outputs": [],
   "source": [
    "# Make predictions\n",
    "y_pred = model.predict(x_test)"
   ]
  },
  {
   "cell_type": "code",
   "execution_count": 27,
   "metadata": {
    "colab": {
     "autoexec": {
      "startup": false,
      "wait_interval": 0
     }
    },
    "colab_type": "code",
    "id": "CZGiAph5JARp"
   },
   "outputs": [],
   "source": [
    "# Get the maximum likely class\n",
    "y_pred = y_pred.argmax(axis=1)"
   ]
  },
  {
   "cell_type": "code",
   "execution_count": 28,
   "metadata": {
    "colab": {
     "autoexec": {
      "startup": false,
      "wait_interval": 0
     }
    },
    "colab_type": "code",
    "id": "e-4IlZFkJARs"
   },
   "outputs": [],
   "source": [
    "# Show how our model predictions look like\n",
    "df['Predicted'] = y_pred"
   ]
  },
  {
   "cell_type": "code",
   "execution_count": 29,
   "metadata": {
    "colab": {
     "autoexec": {
      "startup": false,
      "wait_interval": 0
     },
     "base_uri": "https://localhost:8080/",
     "height": 390,
     "output_extras": [
      {
       "item_id": 1
      }
     ]
    },
    "colab_type": "code",
    "executionInfo": {
     "elapsed": 443,
     "status": "ok",
     "timestamp": 1521218624993,
     "user": {
      "displayName": "Jannes Klaas",
      "photoUrl": "https://lh3.googleusercontent.com/a/default-user=s128",
      "userId": "115843019312458301179"
     },
     "user_tz": -60
    },
    "id": "P06em8DgJARt",
    "outputId": "f9115dc7-8c61-4fa8-de8f-89d48a53887b"
   },
   "outputs": [
    {
     "data": {
      "text/html": [
       "<div>\n",
       "<style scoped>\n",
       "    .dataframe tbody tr th:only-of-type {\n",
       "        vertical-align: middle;\n",
       "    }\n",
       "\n",
       "    .dataframe tbody tr th {\n",
       "        vertical-align: top;\n",
       "    }\n",
       "\n",
       "    .dataframe thead th {\n",
       "        text-align: right;\n",
       "    }\n",
       "</style>\n",
       "<table border=\"1\" class=\"dataframe\">\n",
       "  <thead>\n",
       "    <tr style=\"text-align: right;\">\n",
       "      <th></th>\n",
       "      <th>Char</th>\n",
       "      <th>Target</th>\n",
       "      <th>Predicted</th>\n",
       "    </tr>\n",
       "  </thead>\n",
       "  <tbody>\n",
       "    <tr>\n",
       "      <th>138</th>\n",
       "      <td>B</td>\n",
       "      <td>0</td>\n",
       "      <td>5</td>\n",
       "    </tr>\n",
       "    <tr>\n",
       "      <th>141</th>\n",
       "      <td>l</td>\n",
       "      <td>0</td>\n",
       "      <td>5</td>\n",
       "    </tr>\n",
       "    <tr>\n",
       "      <th>346</th>\n",
       "      <td>\\n</td>\n",
       "      <td>0</td>\n",
       "      <td>5</td>\n",
       "    </tr>\n",
       "    <tr>\n",
       "      <th>347</th>\n",
       "      <td>1</td>\n",
       "      <td>5</td>\n",
       "      <td>5</td>\n",
       "    </tr>\n",
       "    <tr>\n",
       "      <th>348</th>\n",
       "      <td>6</td>\n",
       "      <td>5</td>\n",
       "      <td>5</td>\n",
       "    </tr>\n",
       "    <tr>\n",
       "      <th>349</th>\n",
       "      <td>7</td>\n",
       "      <td>5</td>\n",
       "      <td>5</td>\n",
       "    </tr>\n",
       "    <tr>\n",
       "      <th>350</th>\n",
       "      <td>2</td>\n",
       "      <td>5</td>\n",
       "      <td>5</td>\n",
       "    </tr>\n",
       "    <tr>\n",
       "      <th>351</th>\n",
       "      <td>3</td>\n",
       "      <td>5</td>\n",
       "      <td>5</td>\n",
       "    </tr>\n",
       "    <tr>\n",
       "      <th>352</th>\n",
       "      <td>.</td>\n",
       "      <td>5</td>\n",
       "      <td>5</td>\n",
       "    </tr>\n",
       "    <tr>\n",
       "      <th>353</th>\n",
       "      <td>6</td>\n",
       "      <td>5</td>\n",
       "      <td>5</td>\n",
       "    </tr>\n",
       "    <tr>\n",
       "      <th>354</th>\n",
       "      <td>3</td>\n",
       "      <td>5</td>\n",
       "      <td>5</td>\n",
       "    </tr>\n",
       "    <tr>\n",
       "      <th>488</th>\n",
       "      <td>h</td>\n",
       "      <td>0</td>\n",
       "      <td>5</td>\n",
       "    </tr>\n",
       "    <tr>\n",
       "      <th>489</th>\n",
       "      <td></td>\n",
       "      <td>0</td>\n",
       "      <td>5</td>\n",
       "    </tr>\n",
       "    <tr>\n",
       "      <th>490</th>\n",
       "      <td>a</td>\n",
       "      <td>0</td>\n",
       "      <td>5</td>\n",
       "    </tr>\n",
       "    <tr>\n",
       "      <th>491</th>\n",
       "      <td>n</td>\n",
       "      <td>0</td>\n",
       "      <td>5</td>\n",
       "    </tr>\n",
       "    <tr>\n",
       "      <th>492</th>\n",
       "      <td></td>\n",
       "      <td>0</td>\n",
       "      <td>5</td>\n",
       "    </tr>\n",
       "    <tr>\n",
       "      <th>493</th>\n",
       "      <td>e</td>\n",
       "      <td>0</td>\n",
       "      <td>5</td>\n",
       "    </tr>\n",
       "    <tr>\n",
       "      <th>690</th>\n",
       "      <td>\\n</td>\n",
       "      <td>0</td>\n",
       "      <td>5</td>\n",
       "    </tr>\n",
       "    <tr>\n",
       "      <th>691</th>\n",
       "      <td>T</td>\n",
       "      <td>0</td>\n",
       "      <td>5</td>\n",
       "    </tr>\n",
       "    <tr>\n",
       "      <th>692</th>\n",
       "      <td>o</td>\n",
       "      <td>0</td>\n",
       "      <td>5</td>\n",
       "    </tr>\n",
       "    <tr>\n",
       "      <th>693</th>\n",
       "      <td>t</td>\n",
       "      <td>0</td>\n",
       "      <td>5</td>\n",
       "    </tr>\n",
       "    <tr>\n",
       "      <th>694</th>\n",
       "      <td>a</td>\n",
       "      <td>0</td>\n",
       "      <td>5</td>\n",
       "    </tr>\n",
       "    <tr>\n",
       "      <th>993</th>\n",
       "      <td>S</td>\n",
       "      <td>0</td>\n",
       "      <td>5</td>\n",
       "    </tr>\n",
       "    <tr>\n",
       "      <th>994</th>\n",
       "      <td>T</td>\n",
       "      <td>0</td>\n",
       "      <td>5</td>\n",
       "    </tr>\n",
       "    <tr>\n",
       "      <th>1009</th>\n",
       "      <td>s</td>\n",
       "      <td>0</td>\n",
       "      <td>5</td>\n",
       "    </tr>\n",
       "    <tr>\n",
       "      <th>1010</th>\n",
       "      <td></td>\n",
       "      <td>0</td>\n",
       "      <td>5</td>\n",
       "    </tr>\n",
       "    <tr>\n",
       "      <th>1011</th>\n",
       "      <td>i</td>\n",
       "      <td>0</td>\n",
       "      <td>5</td>\n",
       "    </tr>\n",
       "  </tbody>\n",
       "</table>\n",
       "</div>"
      ],
      "text/plain": [
       "     Char  Target  Predicted\n",
       "138     B       0          5\n",
       "141     l       0          5\n",
       "346    \\n       0          5\n",
       "347     1       5          5\n",
       "348     6       5          5\n",
       "349     7       5          5\n",
       "350     2       5          5\n",
       "351     3       5          5\n",
       "352     .       5          5\n",
       "353     6       5          5\n",
       "354     3       5          5\n",
       "488     h       0          5\n",
       "489             0          5\n",
       "490     a       0          5\n",
       "491     n       0          5\n",
       "492             0          5\n",
       "493     e       0          5\n",
       "690    \\n       0          5\n",
       "691     T       0          5\n",
       "692     o       0          5\n",
       "693     t       0          5\n",
       "694     a       0          5\n",
       "993     S       0          5\n",
       "994     T       0          5\n",
       "1009    s       0          5\n",
       "1010            0          5\n",
       "1011    i       0          5"
      ]
     },
     "execution_count": 29,
     "metadata": {},
     "output_type": "execute_result"
    }
   ],
   "source": [
    "# Show all chars that are predicted to belong to the amount\n",
    "df[df.Predicted == 5]"
   ]
  },
  {
   "cell_type": "markdown",
   "metadata": {
    "colab_type": "text",
    "id": "zRYMUUrTJARy"
   },
   "source": [
    "## Obtain system outputs from predictions"
   ]
  },
  {
   "cell_type": "code",
   "execution_count": 30,
   "metadata": {
    "colab": {
     "autoexec": {
      "startup": false,
      "wait_interval": 0
     }
    },
    "colab_type": "code",
    "id": "rZHf701mJARz"
   },
   "outputs": [],
   "source": [
    "from itertools import groupby\n",
    "# Create groups by the predicted output\n",
    "# The this code will return a tuple with the format\n",
    "# (category, length, starting index)\n",
    "\n",
    "# TODO: This code is ugly and very hard to understand\n",
    "# But it works\n",
    "\n",
    "# Group by predicted category\n",
    "g = groupby(enumerate(y_pred), lambda x:x[1])\n",
    "\n",
    "# Create list of groups\n",
    "l = [(x[0], list(x[1])) for x in g]\n",
    "\n",
    "# Create list with tuples of groups\n",
    "groups = [(x[0], len(x[1]), x[1][0][0]) for x in l]"
   ]
  },
  {
   "cell_type": "code",
   "execution_count": 31,
   "metadata": {
    "colab": {
     "autoexec": {
      "startup": false,
      "wait_interval": 0
     },
     "base_uri": "https://localhost:8080/",
     "height": 187,
     "output_extras": [
      {
       "item_id": 1
      }
     ]
    },
    "colab_type": "code",
    "executionInfo": {
     "elapsed": 453,
     "status": "ok",
     "timestamp": 1521218628454,
     "user": {
      "displayName": "Jannes Klaas",
      "photoUrl": "https://lh3.googleusercontent.com/a/default-user=s128",
      "userId": "115843019312458301179"
     },
     "user_tz": -60
    },
    "id": "M40M3Y8eJAR2",
    "outputId": "a3eb3e5d-258d-4208-c29f-138aa1710ddf"
   },
   "outputs": [
    {
     "data": {
      "text/plain": [
       "[(0, 120, 0),\n",
       " (1, 2, 120),\n",
       " (0, 6, 122),\n",
       " (1, 2, 128),\n",
       " (4, 8, 130),\n",
       " (5, 1, 138),\n",
       " (0, 2, 139),\n",
       " (5, 1, 141),\n",
       " (0, 31, 142),\n",
       " (1, 26, 173)]"
      ]
     },
     "execution_count": 31,
     "metadata": {},
     "output_type": "execute_result"
    }
   ],
   "source": [
    "# Show grouping\n",
    "groups[:10]"
   ]
  },
  {
   "cell_type": "code",
   "execution_count": 32,
   "metadata": {
    "colab": {
     "autoexec": {
      "startup": false,
      "wait_interval": 0
     }
    },
    "colab_type": "code",
    "id": "_J6W-RV2JAR4"
   },
   "outputs": [],
   "source": [
    "'''\n",
    "We only want to consider sequences of predictions of the same type \n",
    "that have a minimum length. This way we remove the noise\n",
    "But we also might remove some good predictions\n",
    "\n",
    "The min length is set to 5 here, certainly a value to experiment with\n",
    "'''\n",
    "candidates = []\n",
    "# Loop over all groups\n",
    "for group in groups:\n",
    "    \n",
    "    # Unpack group\n",
    "    category, length, index = group\n",
    "    \n",
    "    # Ignore the ignore category and only consider category sequences longer than 5\n",
    "    if category != 0 and length > 5:\n",
    "        # Create text\n",
    "        candidate_text = ''.join(chars[index:index+length])\n",
    "        # Remove line breaks, this is just one way to prettify outputs!\n",
    "        candidate_text = candidate_text.replace('\\n','')\n",
    "        candidates.append((candidate_text,category))"
   ]
  },
  {
   "cell_type": "code",
   "execution_count": 33,
   "metadata": {
    "colab": {
     "autoexec": {
      "startup": false,
      "wait_interval": 0
     },
     "base_uri": "https://localhost:8080/",
     "height": 85,
     "output_extras": [
      {
       "item_id": 1
      }
     ]
    },
    "colab_type": "code",
    "executionInfo": {
     "elapsed": 429,
     "status": "ok",
     "timestamp": 1521218630967,
     "user": {
      "displayName": "Jannes Klaas",
      "photoUrl": "https://lh3.googleusercontent.com/a/default-user=s128",
      "userId": "115843019312458301179"
     },
     "user_tz": -60
    },
    "id": "q92fYU5HJAR7",
    "outputId": "35d7ee4b-0a74-4085-b351-dcb05ead5a15"
   },
   "outputs": [
    {
     "data": {
      "text/plain": [
       "[('nternational Holdings B.V.', 1),\n",
       " ('D71J7CR', 4),\n",
       " ('16723.63', 5),\n",
       " ('h an e', 5)]"
      ]
     },
     "execution_count": 33,
     "metadata": {},
     "output_type": "execute_result"
    }
   ],
   "source": [
    "# Show predictions\n",
    "\n",
    "'''\n",
    "Ignore:           0\n",
    "Sender Name:      1 \n",
    "Sender KVK:       2 \n",
    "Sender IBAN:      3 \n",
    "Invoice Reference:4\n",
    "Total:            5\n",
    "'''\n",
    "\n",
    "sorted(candidates, key=lambda tup: tup[1])"
   ]
  },
  {
   "cell_type": "code",
   "execution_count": null,
   "metadata": {
    "colab": {
     "autoexec": {
      "startup": false,
      "wait_interval": 0
     }
    },
    "colab_type": "code",
    "id": "pVtUhpFFJAR-"
   },
   "outputs": [],
   "source": []
  },
  {
   "cell_type": "code",
   "execution_count": null,
   "metadata": {
    "colab": {
     "autoexec": {
      "startup": false,
      "wait_interval": 0
     }
    },
    "colab_type": "code",
    "id": "ru8U0J-BJASA"
   },
   "outputs": [],
   "source": []
  }
 ],
 "metadata": {
  "colab": {
   "collapsed_sections": [],
   "default_view": {},
   "name": "Baseline Ortec.ipynb",
   "provenance": [],
   "version": "0.3.2",
   "views": {}
  },
  "kernelspec": {
   "display_name": "Python 3",
   "language": "python",
   "name": "python3"
  },
  "language_info": {
   "codemirror_mode": {
    "name": "ipython",
    "version": 3
   },
   "file_extension": ".py",
   "mimetype": "text/x-python",
   "name": "python",
   "nbconvert_exporter": "python",
   "pygments_lexer": "ipython3",
   "version": "3.6.4"
  }
 },
 "nbformat": 4,
 "nbformat_minor": 1
}
