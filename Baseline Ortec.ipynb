{
 "cells": [
  {
   "cell_type": "markdown",
   "metadata": {
    "colab_type": "text",
    "id": "gUH91JWlJAQX"
   },
   "source": [
    "# Invoice reading NLP system\n",
    "Remember this image? IT IS BACK!!!\n",
    "![System image](https://storage.googleapis.com/aibootcamp/general_assets/ml_system_architecture.png)\n",
    "\n",
    "\n",
    "This week is all about system building. Because hardly ever does a ML system stand alone. Your success in building a system for Ortec Finance depends as much on what is around your neural net as it depends on the neural net itself. This baseline is my approach to the problem. Much in this notebook was hacked together so I am sure you can improve on many points. Perhaps you even come up with a completely different approach.\n",
    "\n",
    "## The approach, character wise classification:\n",
    "The goal of the task is to extract information from the invoice. The invoice has been run through optical character recognition (OCR). OCR turns PDFs into texts but often messes up the order and confuses come characters. **To extract information from this text, we classify each character by category**. \n",
    "\n",
    "Take an example, if we just wanted to get the amount we would classify the characters like this:\n",
    "\n",
    "|T|O|T|A|L|:| |€| |4|3|6|.|0|0|\n",
    "|-|-|-|-|-|-|-|-|-|-|-|-|-|-|-|\n",
    "|0|0|0|0|0|0|0|1|1|1|1|1|1|1|1|\n",
    "\n",
    "We classify our text into 6 classes here:\n",
    "\n",
    "Ignore:           0\n",
    "Sender Name:      1 \n",
    "Sender KVK:       2 \n",
    "Sender IBAN:      3 \n",
    "Invoice Reference:4\n",
    "Total:            5\n",
    "\n",
    "These are the classes that the training data generator tags. But the class of a character does not only depend on the character. It depends on its surroundings as well. To train our model, we create substrings of our invoice that include a certain amount of preceeding and succeeding characters. The amount of preceding and succeeding characters is defined in the `PADDING` global variable. \n",
    "\n",
    "If for example we wanted to classify the character '€' from the example above and had `PADDING = 3` we would feed\n",
    "'L: € 43' into our network. You can see how the amount of padding has a great influence on the performance of our system.\n",
    "\n",
    "## Post processing:\n",
    "A significant part of model performance stems from what is done with the outputs of the neural net. This approach groups predictions to prediction sequences and only keeps predictions in which 5 consecutive characters were grouped into the same category. An approach to try would be to allow sequences to be interrupted by one character. Another nice add on would be to rank predicted sequences by the total confidence the neural network has in the sequence. \n",
    "\n",
    "## Some tips:\n",
    "For this assignment you can dive pretty deep into software development. \n",
    "You might find these jupyter tricks helpful: https://www.dataquest.io/blog/jupyter-notebook-tips-tricks-shortcuts/\n",
    "\n",
    "Especially debugging with `pdb` really makes things easier: https://docs.python.org/3.5/library/pdb.html#debugger-commands\n",
    "\n",
    "Basically, if anything crashes, you can start a new cell and enter `%debug`. You then come to a command line in which you can look around what happened at the crash.\n",
    "The debugger has some special commands. For example `p my_var` prints out a variable. This also works for other python operations, e.g. `p len(my_list)`.\n",
    "\n",
    "Good luck with building a great system!"
   ]
  },
  {
   "cell_type": "code",
   "execution_count": 11,
   "metadata": {
    "colab": {
     "autoexec": {
      "startup": false,
      "wait_interval": 0
     },
     "base_uri": "https://localhost:8080/",
     "height": 204,
     "output_extras": [
      {
       "item_id": 2
      }
     ]
    },
    "colab_type": "code",
    "executionInfo": {
     "elapsed": 2284,
     "status": "ok",
     "timestamp": 1520840367074,
     "user": {
      "displayName": "Jannes Klaas",
      "photoUrl": "https://lh3.googleusercontent.com/a/default-user=s128",
      "userId": "115843019312458301179"
     },
     "user_tz": -60
    },
    "id": "J_mZzOVTJT6D",
    "outputId": "393937bb-7920-46cc-a5f8-b2589dd67e4a"
   },
   "outputs": [
    {
     "name": "stdout",
     "output_type": "stream",
     "text": [
      "--2018-03-16 16:23:01--  https://storage.googleapis.com/aibootcamp/data/ortec_templates.zip\n",
      "Resolving storage.googleapis.com (storage.googleapis.com)... 172.217.23.208, 2a00:1450:4014:80d::2010\n",
      "Connecting to storage.googleapis.com (storage.googleapis.com)|172.217.23.208|:443... connected.\n",
      "HTTP request sent, awaiting response... 403 Forbidden\n",
      "2018-03-16 16:23:02 ERROR 403: Forbidden.\n",
      "\n"
     ]
    }
   ],
   "source": [
    "# Setup \n",
    "!wget https://storage.googleapis.com/aibootcamp/data/ortec_templates.zip"
   ]
  },
  {
   "cell_type": "code",
   "execution_count": 12,
   "metadata": {
    "colab": {
     "autoexec": {
      "startup": false,
      "wait_interval": 0
     },
     "base_uri": "https://localhost:8080/",
     "height": 323,
     "output_extras": [
      {
       "item_id": 1
      }
     ]
    },
    "colab_type": "code",
    "executionInfo": {
     "elapsed": 1323,
     "status": "ok",
     "timestamp": 1520840381320,
     "user": {
      "displayName": "Jannes Klaas",
      "photoUrl": "https://lh3.googleusercontent.com/a/default-user=s128",
      "userId": "115843019312458301179"
     },
     "user_tz": -60
    },
    "id": "qXnlL2boJjII",
    "outputId": "9f25b9c6-3b08-4730-9710-37edcc28a36d"
   },
   "outputs": [
    {
     "name": "stdout",
     "output_type": "stream",
     "text": [
      "unzip:  cannot find or open ortec_templates.zip, ortec_templates.zip.zip or ortec_templates.zip.ZIP.\r\n"
     ]
    }
   ],
   "source": [
    "!unzip ortec_templates.zip"
   ]
  },
  {
   "cell_type": "code",
   "execution_count": 13,
   "metadata": {
    "colab": {
     "autoexec": {
      "startup": false,
      "wait_interval": 0
     },
     "base_uri": "https://localhost:8080/",
     "height": 34,
     "output_extras": [
      {
       "item_id": 1
      }
     ]
    },
    "colab_type": "code",
    "executionInfo": {
     "elapsed": 1379,
     "status": "ok",
     "timestamp": 1520840389094,
     "user": {
      "displayName": "Jannes Klaas",
      "photoUrl": "https://lh3.googleusercontent.com/a/default-user=s128",
      "userId": "115843019312458301179"
     },
     "user_tz": -60
    },
    "id": "_DnStomIJjRk",
    "outputId": "a8a66e0c-29cf-4b41-8aba-87f16dcb59fe"
   },
   "outputs": [
    {
     "name": "stdout",
     "output_type": "stream",
     "text": [
      "Baseline Ortec.ipynb\t\t      LICENSE\r\n",
      "IBAN_generation.ipynb\t\t      ortec.py\r\n",
      "IBAN_stacker.ipynb\t\t      __pycache__\r\n",
      "invoice_from_disk_sample_code.ipynb   README.md\r\n",
      "invoices_from_disk_sample_code.ipynb  RegExDragon.ipynb\r\n",
      "invoices_generate_todisk.ipynb\t      templates\r\n",
      "invoices_train.zipNOT\t\t      train\r\n",
      "Jannes_Baseline_Ortec.ipynb\t      train_G_iban\r\n"
     ]
    }
   ],
   "source": [
    "!ls"
   ]
  },
  {
   "cell_type": "code",
   "execution_count": 14,
   "metadata": {
    "colab": {
     "autoexec": {
      "startup": false,
      "wait_interval": 0
     }
    },
    "colab_type": "code",
    "id": "caddquRKJ2vC"
   },
   "outputs": [],
   "source": [
    "!pip install -q keras"
   ]
  },
  {
   "cell_type": "markdown",
   "metadata": {
    "colab_type": "text",
    "id": "i3EuDqPXJAQZ"
   },
   "source": [
    "## Loading templates"
   ]
  },
  {
   "cell_type": "code",
   "execution_count": 15,
   "metadata": {
    "colab": {
     "autoexec": {
      "startup": false,
      "wait_interval": 0
     }
    },
    "colab_type": "code",
    "id": "Mq9VfteLJAQZ"
   },
   "outputs": [],
   "source": [
    "# System hyper parameters here\n",
    "\n",
    "# How many characters before and after the main char to feed the NN\n",
    "PADDING = 20 \n",
    "\n",
    "\n",
    "'''\n",
    "Ignore:           0\n",
    "Sender Name:      1 \n",
    "Sender KVK:       2 \n",
    "Sender IBAN:      3 \n",
    "Invoice Reference:4\n",
    "Total:            5\n",
    "'''\n",
    "N_CLASSES = 6"
   ]
  },
  {
   "cell_type": "code",
   "execution_count": 16,
   "metadata": {
    "colab": {
     "autoexec": {
      "startup": false,
      "wait_interval": 0
     }
    },
    "colab_type": "code",
    "id": "B5nyjD3ZJAQd"
   },
   "outputs": [],
   "source": [
    "# Invoice data generator\n",
    "from templates.invoicegen import create_invoice"
   ]
  },
  {
   "cell_type": "code",
   "execution_count": 17,
   "metadata": {
    "colab": {
     "autoexec": {
      "startup": false,
      "wait_interval": 0
     },
     "base_uri": "https://localhost:8080/",
     "height": 34,
     "output_extras": [
      {
       "item_id": 1
      }
     ]
    },
    "colab_type": "code",
    "executionInfo": {
     "elapsed": 513,
     "status": "ok",
     "timestamp": 1520840481684,
     "user": {
      "displayName": "Jannes Klaas",
      "photoUrl": "https://lh3.googleusercontent.com/a/default-user=s128",
      "userId": "115843019312458301179"
     },
     "user_tz": -60
    },
    "id": "U80fgzU4JAQg",
    "outputId": "fc02af00-c9d1-4209-cd59-a3e32d35b91e"
   },
   "outputs": [],
   "source": [
    "\n",
    "# Your friendly tokenizer\n",
    "from keras.preprocessing.text import Tokenizer\n",
    "\n",
    "# Numpy\n",
    "import numpy as np"
   ]
  },
  {
   "cell_type": "code",
   "execution_count": 18,
   "metadata": {
    "colab": {
     "autoexec": {
      "startup": false,
      "wait_interval": 0
     }
    },
    "colab_type": "code",
    "id": "h8AtNKmOJAQn"
   },
   "outputs": [],
   "source": [
    "# Create 100 invoices for each template\n",
    "\n",
    "invoices = []\n",
    "targets = []\n",
    "\n",
    "# Load template 1\n",
    "with open('templates/TEMPLATE_1.txt', 'r') as content_file:\n",
    "    content = content_file.read()\n",
    "\n",
    "# Create invoices from template\n",
    "for i in range(100):\n",
    "    inv, tar, _ = create_invoice(content)\n",
    "    invoices.append(inv)\n",
    "    targets.append(tar)\n",
    "    \n",
    "# Load template 2\n",
    "with open('templates/TEMPLATE_2.txt', 'r') as content_file:\n",
    "    content = content_file.read()\n",
    "    \n",
    "# Create invoices from template\n",
    "for i in range(100):\n",
    "    inv, tar, _ = create_invoice(content)\n",
    "    invoices.append(inv)\n",
    "    targets.append(tar)"
   ]
  },
  {
   "cell_type": "code",
   "execution_count": 19,
   "metadata": {
    "colab": {
     "autoexec": {
      "startup": false,
      "wait_interval": 0
     },
     "base_uri": "https://localhost:8080/",
     "height": 34,
     "output_extras": [
      {
       "item_id": 1
      }
     ]
    },
    "colab_type": "code",
    "executionInfo": {
     "elapsed": 455,
     "status": "ok",
     "timestamp": 1520840493731,
     "user": {
      "displayName": "Jannes Klaas",
      "photoUrl": "https://lh3.googleusercontent.com/a/default-user=s128",
      "userId": "115843019312458301179"
     },
     "user_tz": -60
    },
    "id": "5U69d52YJAQr",
    "outputId": "87237dd0-e5da-4525-f572-7aa103d79d82"
   },
   "outputs": [
    {
     "data": {
      "text/plain": [
       "200"
      ]
     },
     "execution_count": 19,
     "metadata": {},
     "output_type": "execute_result"
    }
   ],
   "source": [
    "len(targets)"
   ]
  },
  {
   "cell_type": "markdown",
   "metadata": {
    "colab_type": "text",
    "id": "Xwm5ToJGJAQv"
   },
   "source": [
    "## Generate substring"
   ]
  },
  {
   "cell_type": "code",
   "execution_count": 20,
   "metadata": {
    "colab": {
     "autoexec": {
      "startup": false,
      "wait_interval": 0
     }
    },
    "colab_type": "code",
    "id": "Lv7HCR6ZJAQv"
   },
   "outputs": [],
   "source": [
    "# Create our tokenizer\n",
    "# We will tokenize on character level!\n",
    "# We will NOT remove any characters\n",
    "tokenizer = Tokenizer(char_level=True, filters=None)\n",
    "tokenizer.fit_on_texts(invoices)"
   ]
  },
  {
   "cell_type": "code",
   "execution_count": 21,
   "metadata": {
    "colab": {
     "autoexec": {
      "startup": false,
      "wait_interval": 0
     }
    },
    "colab_type": "code",
    "id": "fardNlOkJAQz"
   },
   "outputs": [],
   "source": [
    "def gen_sub(inv,tar,pad, m = None):\n",
    "    '''\n",
    "    Generates a substring from invoice inv and target list tar \n",
    "    using the character at index m as a midpoint.\n",
    "    \n",
    "    Params:\n",
    "    inv - an invoice string\n",
    "    tar - a target list specifying the type of each item\n",
    "    pad - the amount of padding to attach before and after the focus character\n",
    "    \n",
    "    Returns:\n",
    "    sub - a string with pad characters, the focus character, pad characters\n",
    "    '''\n",
    "    # If no focus character index is set, choose at random\n",
    "    if m == None:\n",
    "        m = np.random.randint(0,len(inv))\n",
    "        \n",
    "    l = m - pad # define the lower bound of our substring\n",
    "    h = m + pad + 1 # define the upper (high) of our substring\n",
    "\n",
    "    # Sometimes, our lower bound could be below zero\n",
    "    # In this case we attach the remaining characters from the back of the string\n",
    "    if l < 0:\n",
    "        # Get the characters from the back of the file\n",
    "        s1 = inv[l:None]\n",
    "        \n",
    "        # Edge case: Sample size larger than string\n",
    "        # Our upper bound might be higher than the lenth of the text\n",
    "        # In that case we start from the front again\n",
    "        if h >= len(inv): \n",
    "            # How many characters do we need from the front\n",
    "            overlap = h - len(inv)\n",
    "            # The string is the entire invoice + some chars from the front\n",
    "            s2 = inv\n",
    "            s_over = inv[None:overlap]\n",
    "            s2 = s2 + s_over\n",
    "        else:\n",
    "            # If we don't need chars from the front \n",
    "            # we can just select to the upper bound\n",
    "            s2 = inv[None:h]\n",
    "            \n",
    "        # Create substring\n",
    "        sub = s1 + s2\n",
    "        # Ensure the substring has the right length\n",
    "        assert(len(sub) == pad*2 +1)\n",
    "        return sub, tar[m]\n",
    "    \n",
    "    # Our lower bound might be positive but our upper bound might \n",
    "    # still be above the length of the invoice\n",
    "    elif h >= len(inv):\n",
    "        # Calc how many chars we need from the front\n",
    "        overlap = h - len(inv)\n",
    "        \n",
    "        # Get string from lower bound to end\n",
    "        s1 = inv[l:None]\n",
    "        # Get string from the front of the doc\n",
    "        s2 = inv[None:overlap]\n",
    "        sub = s1 + s2\n",
    "        # Make sure our string has the correct length\n",
    "        assert(len(sub) == pad*2 +1)\n",
    "        return sub, tar[m]\n",
    "    \n",
    "    # Upper and lower bound lie within the length of the invoice\n",
    "    else: \n",
    "        sub = inv[l:h]\n",
    "        assert(len(sub) == pad*2 +1)\n",
    "        return sub, tar[m]"
   ]
  },
  {
   "cell_type": "markdown",
   "metadata": {
    "colab_type": "text",
    "id": "LloL1ejTJAQ5"
   },
   "source": [
    "## Generate dataset for training"
   ]
  },
  {
   "cell_type": "code",
   "execution_count": 22,
   "metadata": {
    "colab": {
     "autoexec": {
      "startup": false,
      "wait_interval": 0
     }
    },
    "colab_type": "code",
    "id": "O1rC068zJAQ5"
   },
   "outputs": [],
   "source": [
    "def gen_dataset(sample_size, n_classes, invoices, targets, tokenizer):\n",
    "    '''\n",
    "    Generate a dataset of inputs and outputs for our neural network\n",
    "    \n",
    "    Params:\n",
    "    sample_size - desired sample size\n",
    "    n_classes - number of classes\n",
    "    invoices - list of invoices to sample from\n",
    "    targets - list of corresonding targets to sample from\n",
    "    tokenizer - a keras tokenizer fit on the invoices\n",
    "    \n",
    "    The function creates balanced samples by randomly sampling untill \n",
    "    an equal amount of samples of all types is created.\n",
    "    \n",
    "    Characters are one hot encoded\n",
    "    \n",
    "    Returns:\n",
    "    x_arr: a numpy array of shape (sample_size, seqence length, number of unique characters)\n",
    "    y_arr: a numpy array of shape (sample_size,)\n",
    "    '''\n",
    "    \n",
    "    # Create a budget\n",
    "    budget = [sample_size / n_classes] * n_classes\n",
    "    \n",
    "    # Setup holding variables\n",
    "    X_train = []\n",
    "    y_train = []\n",
    "\n",
    "    # While there is still a budget left...\n",
    "    while sum(budget) > 0:\n",
    "        # ... get a random invoice and target list\n",
    "        index = np.random.randint(0,len(invoices))\n",
    "        inv = invoices[index]\n",
    "        tar = targets[index]\n",
    "        # ... sample up to 10 items from this invoice \n",
    "        for j in range(10):\n",
    "            # Get an item\n",
    "            x, y = gen_sub(inv,tar,PADDING)\n",
    "            # if we still have a budget for this items target\n",
    "            if budget[y] > 0:\n",
    "                # Tokenize to one hot\n",
    "                xm = tokenizer.texts_to_matrix(x)\n",
    "                # Add data and target\n",
    "                X_train.append(xm)\n",
    "                y_train.append(y)\n",
    "                budget[y] -= 1\n",
    "      \n",
    "    # Create numpy arrays from all data and targets\n",
    "    x_arr = np.array(X_train)\n",
    "    y_arr = np.array(y_train)\n",
    "    return x_arr,y_arr"
   ]
  },
  {
   "cell_type": "code",
   "execution_count": 23,
   "metadata": {
    "colab": {
     "autoexec": {
      "startup": false,
      "wait_interval": 0
     }
    },
    "colab_type": "code",
    "id": "yGA5pV-3JAQ8"
   },
   "outputs": [],
   "source": [
    "# Ger data\n",
    "train_size = 12000\n",
    "val_size = 120\n",
    "\n",
    "x_tr, y_tr = gen_dataset(train_size, N_CLASSES, invoices, targets, tokenizer)\n",
    "x_val, y_val = gen_dataset(val_size, N_CLASSES, invoices, targets, tokenizer)"
   ]
  },
  {
   "cell_type": "code",
   "execution_count": 32,
   "metadata": {
    "colab": {
     "autoexec": {
      "startup": false,
      "wait_interval": 0
     },
     "base_uri": "https://localhost:8080/",
     "height": 34,
     "output_extras": [
      {
       "item_id": 1
      }
     ]
    },
    "colab_type": "code",
    "executionInfo": {
     "elapsed": 454,
     "status": "ok",
     "timestamp": 1520840507577,
     "user": {
      "displayName": "Jannes Klaas",
      "photoUrl": "https://lh3.googleusercontent.com/a/default-user=s128",
      "userId": "115843019312458301179"
     },
     "user_tz": -60
    },
    "id": "crz627iyJAQ_",
    "outputId": "6d04f9b7-8c35-4382-a8e6-6bde26645621"
   },
   "outputs": [
    {
     "name": "stdout",
     "output_type": "stream",
     "text": [
      "(12000, 41, 83)\n",
      "[0. 1. 0. 0. 0. 0. 0. 0. 0. 0. 0. 0. 0. 0. 0. 0. 0. 0. 0. 0. 0. 0. 0. 0.\n",
      " 0. 0. 0. 0. 0. 0. 0. 0. 0. 0. 0. 0. 0. 0. 0. 0. 0. 0. 0. 0. 0. 0. 0. 0.\n",
      " 0. 0. 0. 0. 0. 0. 0. 0. 0. 0. 0. 0. 0. 0. 0. 0. 0. 0. 0. 0. 0. 0. 0. 0.\n",
      " 0. 0. 0. 0. 0. 0. 0. 0. 0. 0. 0.]\n",
      "\n",
      "(12000,)\n",
      "0\n"
     ]
    }
   ],
   "source": [
    "print(x_tr.shape)\n",
    "print(x_tr[1][1])\n",
    "print()\n",
    "print(y_tr.shape)\n",
    "print(y_tr[1])"
   ]
  },
  {
   "cell_type": "markdown",
   "metadata": {
    "colab_type": "text",
    "id": "82CcOTIgJARD"
   },
   "source": [
    "## Model building"
   ]
  },
  {
   "cell_type": "code",
   "execution_count": 0,
   "metadata": {
    "colab": {
     "autoexec": {
      "startup": false,
      "wait_interval": 0
     }
    },
    "colab_type": "code",
    "id": "JJ977SYzJARD"
   },
   "outputs": [],
   "source": [
    "from keras.models import Sequential\n",
    "from keras.layers import SimpleRNN, Dense,Activation, Conv1D, MaxPool1D"
   ]
  },
  {
   "cell_type": "code",
   "execution_count": 19,
   "metadata": {
    "colab": {
     "autoexec": {
      "startup": false,
      "wait_interval": 0
     },
     "base_uri": "https://localhost:8080/",
     "height": 88,
     "output_extras": [
      {
       "item_id": 1
      }
     ]
    },
    "colab_type": "code",
    "executionInfo": {
     "elapsed": 475,
     "status": "ok",
     "timestamp": 1520840510488,
     "user": {
      "displayName": "Jannes Klaas",
      "photoUrl": "https://lh3.googleusercontent.com/a/default-user=s128",
      "userId": "115843019312458301179"
     },
     "user_tz": -60
    },
    "id": "IFzNMcqSJARG",
    "outputId": "283c835f-24a0-45f8-97cd-6e21f00187c7"
   },
   "outputs": [
    {
     "name": "stdout",
     "output_type": "stream",
     "text": [
      "WARNING:tensorflow:From /usr/local/lib/python3.6/dist-packages/tensorflow/python/util/deprecation.py:497: calling conv1d (from tensorflow.python.ops.nn_ops) with data_format=NHWC is deprecated and will be removed in a future version.\n",
      "Instructions for updating:\n",
      "`NHWC` for data_format is deprecated, use `NWC` instead\n"
     ]
    }
   ],
   "source": [
    "# A simple model\n",
    "model = Sequential()\n",
    "model.add(Conv1D(32,2,input_shape=(None, 85))) # The input shape assumes there is 85 possible characters\n",
    "model.add(MaxPool1D(2))\n",
    "model.add(SimpleRNN(10))\n",
    "model.add(Dense(6))\n",
    "model.add(Activation('softmax'))"
   ]
  },
  {
   "cell_type": "code",
   "execution_count": 0,
   "metadata": {
    "colab": {
     "autoexec": {
      "startup": false,
      "wait_interval": 0
     }
    },
    "colab_type": "code",
    "id": "UNYPtr9zJARJ"
   },
   "outputs": [],
   "source": [
    "# sparse_categorical_crossentropy is like categorical crossentropy but without converting targets to one hot\n",
    "model.compile(loss='sparse_categorical_crossentropy',optimizer='adam', metrics=['acc'])"
   ]
  },
  {
   "cell_type": "code",
   "execution_count": 21,
   "metadata": {
    "colab": {
     "autoexec": {
      "startup": false,
      "wait_interval": 0
     },
     "base_uri": "https://localhost:8080/",
     "height": 275,
     "output_extras": [
      {
       "item_id": 57
      },
      {
       "item_id": 79
      },
      {
       "item_id": 80
      }
     ]
    },
    "colab_type": "code",
    "executionInfo": {
     "elapsed": 20215,
     "status": "ok",
     "timestamp": 1520840547235,
     "user": {
      "displayName": "Jannes Klaas",
      "photoUrl": "https://lh3.googleusercontent.com/a/default-user=s128",
      "userId": "115843019312458301179"
     },
     "user_tz": -60
    },
    "id": "p2JL9ObQJARL",
    "outputId": "72f7c736-2eea-4a74-b3b7-f42836b7c767"
   },
   "outputs": [
    {
     "name": "stdout",
     "output_type": "stream",
     "text": [
      "Train on 12000 samples, validate on 120 samples\n",
      "Epoch 1/6\n",
      "12000/12000 [==============================] - 3s 277us/step - loss: 0.9211 - acc: 0.7887 - val_loss: 0.4949 - val_acc: 0.9500\n",
      "Epoch 2/6\n",
      "12000/12000 [==============================] - 3s 267us/step - loss: 0.3003 - acc: 0.9723 - val_loss: 0.2517 - val_acc: 0.9750\n",
      "Epoch 3/6\n",
      "12000/12000 [==============================] - 3s 267us/step - loss: 0.1356 - acc: 0.9886 - val_loss: 0.1760 - val_acc: 0.9750\n",
      "Epoch 4/6\n",
      "12000/12000 [==============================] - 3s 268us/step - loss: 0.0842 - acc: 0.9902 - val_loss: 0.1041 - val_acc: 0.9833\n",
      "Epoch 5/6\n",
      " 4640/12000 [==========>...................] - ETA: 1s - loss: 0.0685 - acc: 0.990712000/12000 [==============================] - 3s 272us/step - loss: 0.0599 - acc: 0.9921 - val_loss: 0.1534 - val_acc: 0.9667\n",
      "Epoch 6/6\n",
      "12000/12000 [==============================] - 3s 272us/step - loss: 0.0390 - acc: 0.9950 - val_loss: 0.0906 - val_acc: 0.9833\n"
     ]
    },
    {
     "data": {
      "text/plain": [
       "<keras.callbacks.History at 0x7f2a71047f28>"
      ]
     },
     "execution_count": 21,
     "metadata": {
      "tags": []
     },
     "output_type": "execute_result"
    }
   ],
   "source": [
    "model.fit(x_tr,y_tr,batch_size=32,epochs=6,validation_data=(x_val,y_val))"
   ]
  },
  {
   "cell_type": "markdown",
   "metadata": {
    "colab_type": "text",
    "id": "64vCXL2TJARO"
   },
   "source": [
    "## Generate demo invoice"
   ]
  },
  {
   "cell_type": "code",
   "execution_count": 0,
   "metadata": {
    "colab": {
     "autoexec": {
      "startup": false,
      "wait_interval": 0
     }
    },
    "colab_type": "code",
    "id": "VVq9JpSCJARO"
   },
   "outputs": [],
   "source": [
    "'''\n",
    "To make predictions from our model, we need to create \n",
    "sequences around every character from the invoice.\n",
    "\n",
    "We the making predictions for every charater based on their invoice\n",
    "'''\n",
    "\n",
    "# Choose a random invoice:\n",
    "index = np.random.randint(0,len(invoices))\n",
    "inv = invoices[index]\n",
    "tar = targets[index]\n",
    "\n",
    "\n",
    "chars = [] # Holds the individual characters\n",
    "data = [] # Holds the sequences around the characters\n",
    "y_true = [] # Holds the true targets for each character\n",
    "\n",
    "# Loop over characters indices\n",
    "for i in range(len(inv) -1):\n",
    "    # Create sequence around this character\n",
    "    x,y = gen_sub(inv,tar,PADDING,m=i)\n",
    "    # Tokenize the sequence to one hot\n",
    "    xm = tokenizer.texts_to_matrix(x)\n",
    "    # Get the character itself\n",
    "    c = inv[i]\n",
    "    \n",
    "    chars.append(c)\n",
    "    data.append(xm)\n",
    "    y_true.append(y)"
   ]
  },
  {
   "cell_type": "code",
   "execution_count": 0,
   "metadata": {
    "colab": {
     "autoexec": {
      "startup": false,
      "wait_interval": 0
     }
    },
    "colab_type": "code",
    "id": "AkoIPKFbJARS"
   },
   "outputs": [],
   "source": [
    "import pandas as pd"
   ]
  },
  {
   "cell_type": "code",
   "execution_count": 0,
   "metadata": {
    "colab": {
     "autoexec": {
      "startup": false,
      "wait_interval": 0
     }
    },
    "colab_type": "code",
    "id": "c6dsi09WJARV"
   },
   "outputs": [],
   "source": [
    "# For demo purposes we can look what our invoice looks like\n",
    "df = pd.DataFrame({'Char':chars,'Target':y_true})"
   ]
  },
  {
   "cell_type": "code",
   "execution_count": 25,
   "metadata": {
    "colab": {
     "autoexec": {
      "startup": false,
      "wait_interval": 0
     },
     "base_uri": "https://localhost:8080/",
     "height": 266,
     "output_extras": [
      {
       "item_id": 1
      }
     ]
    },
    "colab_type": "code",
    "executionInfo": {
     "elapsed": 443,
     "status": "ok",
     "timestamp": 1520840559087,
     "user": {
      "displayName": "Jannes Klaas",
      "photoUrl": "https://lh3.googleusercontent.com/a/default-user=s128",
      "userId": "115843019312458301179"
     },
     "user_tz": -60
    },
    "id": "agX4dRj0JARZ",
    "outputId": "d7dc8101-5231-433a-c8ee-3531c432e5f7"
   },
   "outputs": [
    {
     "data": {
      "text/html": [
       "<div>\n",
       "<style scoped>\n",
       "    .dataframe tbody tr th:only-of-type {\n",
       "        vertical-align: middle;\n",
       "    }\n",
       "\n",
       "    .dataframe tbody tr th {\n",
       "        vertical-align: top;\n",
       "    }\n",
       "\n",
       "    .dataframe thead th {\n",
       "        text-align: right;\n",
       "    }\n",
       "</style>\n",
       "<table border=\"1\" class=\"dataframe\">\n",
       "  <thead>\n",
       "    <tr style=\"text-align: right;\">\n",
       "      <th></th>\n",
       "      <th>Char</th>\n",
       "      <th>Target</th>\n",
       "    </tr>\n",
       "  </thead>\n",
       "  <tbody>\n",
       "    <tr>\n",
       "      <th>854</th>\n",
       "      <td>5</td>\n",
       "      <td>5</td>\n",
       "    </tr>\n",
       "    <tr>\n",
       "      <th>855</th>\n",
       "      <td>2</td>\n",
       "      <td>5</td>\n",
       "    </tr>\n",
       "    <tr>\n",
       "      <th>856</th>\n",
       "      <td>0</td>\n",
       "      <td>5</td>\n",
       "    </tr>\n",
       "    <tr>\n",
       "      <th>857</th>\n",
       "      <td>1</td>\n",
       "      <td>5</td>\n",
       "    </tr>\n",
       "    <tr>\n",
       "      <th>858</th>\n",
       "      <td>.</td>\n",
       "      <td>5</td>\n",
       "    </tr>\n",
       "    <tr>\n",
       "      <th>859</th>\n",
       "      <td>4</td>\n",
       "      <td>5</td>\n",
       "    </tr>\n",
       "    <tr>\n",
       "      <th>860</th>\n",
       "      <td>8</td>\n",
       "      <td>5</td>\n",
       "    </tr>\n",
       "  </tbody>\n",
       "</table>\n",
       "</div>"
      ],
      "text/plain": [
       "    Char  Target\n",
       "854    5       5\n",
       "855    2       5\n",
       "856    0       5\n",
       "857    1       5\n",
       "858    .       5\n",
       "859    4       5\n",
       "860    8       5"
      ]
     },
     "execution_count": 25,
     "metadata": {
      "tags": []
     },
     "output_type": "execute_result"
    }
   ],
   "source": [
    "# Show all characters belonging to the amount\n",
    "df[df.Target == 5]"
   ]
  },
  {
   "cell_type": "code",
   "execution_count": 0,
   "metadata": {
    "colab": {
     "autoexec": {
      "startup": false,
      "wait_interval": 0
     }
    },
    "colab_type": "code",
    "id": "J0bWvclmJARg"
   },
   "outputs": [],
   "source": [
    "# Create test data for predictions with neural net\n",
    "x_test = np.array(data)"
   ]
  },
  {
   "cell_type": "code",
   "execution_count": 27,
   "metadata": {
    "colab": {
     "autoexec": {
      "startup": false,
      "wait_interval": 0
     },
     "base_uri": "https://localhost:8080/",
     "height": 34,
     "output_extras": [
      {
       "item_id": 1
      }
     ]
    },
    "colab_type": "code",
    "executionInfo": {
     "elapsed": 380,
     "status": "ok",
     "timestamp": 1520840562698,
     "user": {
      "displayName": "Jannes Klaas",
      "photoUrl": "https://lh3.googleusercontent.com/a/default-user=s128",
      "userId": "115843019312458301179"
     },
     "user_tz": -60
    },
    "id": "mH6fGzCkJARi",
    "outputId": "9faf69b5-fe28-49c7-f286-15327ae58c83"
   },
   "outputs": [
    {
     "data": {
      "text/plain": [
       "(903, 41, 85)"
      ]
     },
     "execution_count": 27,
     "metadata": {
      "tags": []
     },
     "output_type": "execute_result"
    }
   ],
   "source": [
    "x_test.shape"
   ]
  },
  {
   "cell_type": "markdown",
   "metadata": {
    "colab_type": "text",
    "id": "_KdrkkkYJARm"
   },
   "source": [
    "## Making predictions"
   ]
  },
  {
   "cell_type": "code",
   "execution_count": 0,
   "metadata": {
    "colab": {
     "autoexec": {
      "startup": false,
      "wait_interval": 0
     }
    },
    "colab_type": "code",
    "id": "81HmeHLdJARn"
   },
   "outputs": [],
   "source": [
    "# Make predictions\n",
    "y_pred = model.predict(x_test)"
   ]
  },
  {
   "cell_type": "code",
   "execution_count": 0,
   "metadata": {
    "colab": {
     "autoexec": {
      "startup": false,
      "wait_interval": 0
     }
    },
    "colab_type": "code",
    "id": "CZGiAph5JARp"
   },
   "outputs": [],
   "source": [
    "# Get the maximum likely class\n",
    "y_pred = y_pred.argmax(axis=1)"
   ]
  },
  {
   "cell_type": "code",
   "execution_count": 0,
   "metadata": {
    "colab": {
     "autoexec": {
      "startup": false,
      "wait_interval": 0
     }
    },
    "colab_type": "code",
    "id": "e-4IlZFkJARs"
   },
   "outputs": [],
   "source": [
    "# Show how our model predictions look like\n",
    "df['Predicted'] = y_pred"
   ]
  },
  {
   "cell_type": "code",
   "execution_count": 31,
   "metadata": {
    "colab": {
     "autoexec": {
      "startup": false,
      "wait_interval": 0
     },
     "base_uri": "https://localhost:8080/",
     "height": 421,
     "output_extras": [
      {
       "item_id": 1
      }
     ]
    },
    "colab_type": "code",
    "executionInfo": {
     "elapsed": 463,
     "status": "ok",
     "timestamp": 1520840569709,
     "user": {
      "displayName": "Jannes Klaas",
      "photoUrl": "https://lh3.googleusercontent.com/a/default-user=s128",
      "userId": "115843019312458301179"
     },
     "user_tz": -60
    },
    "id": "P06em8DgJARt",
    "outputId": "42d2ab37-8bad-4589-efec-9e10e213ac1a"
   },
   "outputs": [
    {
     "data": {
      "text/html": [
       "<div>\n",
       "<style scoped>\n",
       "    .dataframe tbody tr th:only-of-type {\n",
       "        vertical-align: middle;\n",
       "    }\n",
       "\n",
       "    .dataframe tbody tr th {\n",
       "        vertical-align: top;\n",
       "    }\n",
       "\n",
       "    .dataframe thead th {\n",
       "        text-align: right;\n",
       "    }\n",
       "</style>\n",
       "<table border=\"1\" class=\"dataframe\">\n",
       "  <thead>\n",
       "    <tr style=\"text-align: right;\">\n",
       "      <th></th>\n",
       "      <th>Char</th>\n",
       "      <th>Target</th>\n",
       "      <th>Predicted</th>\n",
       "    </tr>\n",
       "  </thead>\n",
       "  <tbody>\n",
       "    <tr>\n",
       "      <th>103</th>\n",
       "      <td>N</td>\n",
       "      <td>0</td>\n",
       "      <td>5</td>\n",
       "    </tr>\n",
       "    <tr>\n",
       "      <th>104</th>\n",
       "      <td>e</td>\n",
       "      <td>0</td>\n",
       "      <td>5</td>\n",
       "    </tr>\n",
       "    <tr>\n",
       "      <th>506</th>\n",
       "      <td>C</td>\n",
       "      <td>0</td>\n",
       "      <td>5</td>\n",
       "    </tr>\n",
       "    <tr>\n",
       "      <th>574</th>\n",
       "      <td>-</td>\n",
       "      <td>0</td>\n",
       "      <td>5</td>\n",
       "    </tr>\n",
       "    <tr>\n",
       "      <th>575</th>\n",
       "      <td>i</td>\n",
       "      <td>0</td>\n",
       "      <td>5</td>\n",
       "    </tr>\n",
       "    <tr>\n",
       "      <th>854</th>\n",
       "      <td>5</td>\n",
       "      <td>5</td>\n",
       "      <td>5</td>\n",
       "    </tr>\n",
       "    <tr>\n",
       "      <th>855</th>\n",
       "      <td>2</td>\n",
       "      <td>5</td>\n",
       "      <td>5</td>\n",
       "    </tr>\n",
       "    <tr>\n",
       "      <th>856</th>\n",
       "      <td>0</td>\n",
       "      <td>5</td>\n",
       "      <td>5</td>\n",
       "    </tr>\n",
       "    <tr>\n",
       "      <th>857</th>\n",
       "      <td>1</td>\n",
       "      <td>5</td>\n",
       "      <td>5</td>\n",
       "    </tr>\n",
       "    <tr>\n",
       "      <th>858</th>\n",
       "      <td>.</td>\n",
       "      <td>5</td>\n",
       "      <td>5</td>\n",
       "    </tr>\n",
       "    <tr>\n",
       "      <th>859</th>\n",
       "      <td>4</td>\n",
       "      <td>5</td>\n",
       "      <td>5</td>\n",
       "    </tr>\n",
       "    <tr>\n",
       "      <th>860</th>\n",
       "      <td>8</td>\n",
       "      <td>5</td>\n",
       "      <td>5</td>\n",
       "    </tr>\n",
       "  </tbody>\n",
       "</table>\n",
       "</div>"
      ],
      "text/plain": [
       "    Char  Target  Predicted\n",
       "103    N       0          5\n",
       "104    e       0          5\n",
       "506    C       0          5\n",
       "574    -       0          5\n",
       "575    i       0          5\n",
       "854    5       5          5\n",
       "855    2       5          5\n",
       "856    0       5          5\n",
       "857    1       5          5\n",
       "858    .       5          5\n",
       "859    4       5          5\n",
       "860    8       5          5"
      ]
     },
     "execution_count": 31,
     "metadata": {
      "tags": []
     },
     "output_type": "execute_result"
    }
   ],
   "source": [
    "# Show all chars that are predicted to belong to the amount\n",
    "df[df.Predicted == 5]"
   ]
  },
  {
   "cell_type": "markdown",
   "metadata": {
    "colab_type": "text",
    "id": "zRYMUUrTJARy"
   },
   "source": [
    "## Obtain system outputs from predictions"
   ]
  },
  {
   "cell_type": "code",
   "execution_count": 0,
   "metadata": {
    "colab": {
     "autoexec": {
      "startup": false,
      "wait_interval": 0
     }
    },
    "colab_type": "code",
    "id": "rZHf701mJARz"
   },
   "outputs": [],
   "source": [
    "from itertools import groupby\n",
    "# Create groups by the predicted output\n",
    "# The this code will return a tuple with the format\n",
    "# (category, length, starting index)\n",
    "\n",
    "# TODO: This code is ugly and very hard to understand\n",
    "# But it works\n",
    "\n",
    "# Group by predicted category\n",
    "g = groupby(enumerate(y_pred), lambda x:x[1])\n",
    "\n",
    "# Create list of groups\n",
    "l = [(x[0], list(x[1])) for x in g]\n",
    "\n",
    "# Create list with tuples of groups\n",
    "groups = [(x[0], len(x[1]), x[1][0][0]) for x in l]"
   ]
  },
  {
   "cell_type": "code",
   "execution_count": 33,
   "metadata": {
    "colab": {
     "autoexec": {
      "startup": false,
      "wait_interval": 0
     },
     "base_uri": "https://localhost:8080/",
     "height": 187,
     "output_extras": [
      {
       "item_id": 1
      }
     ]
    },
    "colab_type": "code",
    "executionInfo": {
     "elapsed": 505,
     "status": "ok",
     "timestamp": 1520840578707,
     "user": {
      "displayName": "Jannes Klaas",
      "photoUrl": "https://lh3.googleusercontent.com/a/default-user=s128",
      "userId": "115843019312458301179"
     },
     "user_tz": -60
    },
    "id": "M40M3Y8eJAR2",
    "outputId": "78833555-4884-41e1-85da-5f535c5d99b4"
   },
   "outputs": [
    {
     "data": {
      "text/plain": [
       "[(0, 11, 0),\n",
       " (4, 1, 11),\n",
       " (0, 1, 12),\n",
       " (1, 1, 13),\n",
       " (0, 1, 14),\n",
       " (1, 38, 15),\n",
       " (0, 1, 53),\n",
       " (1, 1, 54),\n",
       " (0, 3, 55),\n",
       " (1, 1, 58)]"
      ]
     },
     "execution_count": 33,
     "metadata": {
      "tags": []
     },
     "output_type": "execute_result"
    }
   ],
   "source": [
    "# Show grouping\n",
    "groups[:10]"
   ]
  },
  {
   "cell_type": "code",
   "execution_count": 0,
   "metadata": {
    "colab": {
     "autoexec": {
      "startup": false,
      "wait_interval": 0
     }
    },
    "colab_type": "code",
    "id": "_J6W-RV2JAR4"
   },
   "outputs": [],
   "source": [
    "'''\n",
    "We only want to consider sequences of predictions of the same type \n",
    "that have a minimum length. This way we remove the noise\n",
    "But we also might remove some good predictions\n",
    "\n",
    "The min length is set to 5 here, certainly a value to experiment with\n",
    "'''\n",
    "candidates = []\n",
    "# Loop over all groups\n",
    "for group in groups:\n",
    "    \n",
    "    # Unpack group\n",
    "    category, length, index = group\n",
    "    \n",
    "    # Ignore the ignore category and only consider category sequences longer than 5\n",
    "    if category != 0 and length > 5:\n",
    "        # Create text\n",
    "        candidate_text = ''.join(chars[index:index+length])\n",
    "        # Remove line breaks, this is just one way to prettify outputs!\n",
    "        candidate_text = candidate_text.replace('\\n','')\n",
    "        candidates.append((candidate_text,category))"
   ]
  },
  {
   "cell_type": "code",
   "execution_count": 35,
   "metadata": {
    "colab": {
     "autoexec": {
      "startup": false,
      "wait_interval": 0
     },
     "base_uri": "https://localhost:8080/",
     "height": 85,
     "output_extras": [
      {
       "item_id": 1
      }
     ]
    },
    "colab_type": "code",
    "executionInfo": {
     "elapsed": 472,
     "status": "ok",
     "timestamp": 1520840595818,
     "user": {
      "displayName": "Jannes Klaas",
      "photoUrl": "https://lh3.googleusercontent.com/a/default-user=s128",
      "userId": "115843019312458301179"
     },
     "user_tz": -60
    },
    "id": "q92fYU5HJAR7",
    "outputId": "4505d4df-a6ba-41b1-cb47-a2725b539035"
   },
   "outputs": [
    {
     "data": {
      "text/plain": [
       "[('Amazon NL International Holdings B.V.', 1),\n",
       " ('69988978', 2),\n",
       " ('NL41RABO0150437878', 3),\n",
       " ('5201.48', 5)]"
      ]
     },
     "execution_count": 35,
     "metadata": {
      "tags": []
     },
     "output_type": "execute_result"
    }
   ],
   "source": [
    "# Show predictions\n",
    "\n",
    "'''\n",
    "Ignore:           0\n",
    "Sender Name:      1 \n",
    "Sender KVK:       2 \n",
    "Sender IBAN:      3 \n",
    "Invoice Reference:4\n",
    "Total:            5\n",
    "'''\n",
    "\n",
    "sorted(candidates, key=lambda tup: tup[1])"
   ]
  },
  {
   "cell_type": "code",
   "execution_count": 0,
   "metadata": {
    "colab": {
     "autoexec": {
      "startup": false,
      "wait_interval": 0
     }
    },
    "colab_type": "code",
    "id": "pVtUhpFFJAR-"
   },
   "outputs": [],
   "source": []
  },
  {
   "cell_type": "code",
   "execution_count": 0,
   "metadata": {
    "colab": {
     "autoexec": {
      "startup": false,
      "wait_interval": 0
     }
    },
    "colab_type": "code",
    "id": "ru8U0J-BJASA"
   },
   "outputs": [],
   "source": []
  }
 ],
 "metadata": {
  "colab": {
   "collapsed_sections": [],
   "default_view": {},
   "name": "Baseline Ortec.ipynb",
   "provenance": [],
   "version": "0.3.2",
   "views": {}
  },
  "kernelspec": {
   "display_name": "Python 3",
   "language": "python",
   "name": "python3"
  },
  "language_info": {
   "codemirror_mode": {
    "name": "ipython",
    "version": 3
   },
   "file_extension": ".py",
   "mimetype": "text/x-python",
   "name": "python",
   "nbconvert_exporter": "python",
   "pygments_lexer": "ipython3",
   "version": "3.6.4"
  }
 },
 "nbformat": 4,
 "nbformat_minor": 1
}
