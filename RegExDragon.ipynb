{
 "cells": [
  {
   "cell_type": "markdown",
   "metadata": {
    "colab_type": "text",
    "id": "kBDbyYdhmC_q"
   },
   "source": [
    "# Regex Extractor\n",
    "\n",
    "## TODO\n",
    "1. define regexes\n",
    "  - IBAN\n",
    "  - KvK\n",
    "  - Amount\n",
    "  - Name\n",
    "  - Invoice reference\n",
    "  - Total\n",
    "2. take input\n",
    "3. match with regex\n",
    "4. get results\n",
    "5. package them as per Rick's specifications"
   ]
  },
  {
   "cell_type": "markdown",
   "metadata": {
    "colab_type": "text",
    "id": "KMf-ow_4mous"
   },
   "source": [
    "### REGEXES\n",
    "\n",
    "- Iban: \"[a-zA-Z]{2}[0-9]{2}[a-zA-Z0-9]{4}[0-9]{7}([a-zA-Z0-9]?){0,16}\"\n",
    "- KVK: \"\"\n",
    "- Date: \"\"\n",
    "- Amount: \"^(€|$)?\\s?(\\d{1,10})(\\.|\\,)(\\d{2})(€|$)?$\"\n",
    "- Name: \"\"\n",
    "- Invoice reference: \"\"\n",
    "- Total: \"\""
   ]
  },
  {
   "cell_type": "markdown",
   "metadata": {
    "colab_type": "text",
    "id": "MfloeM3Pm5NY"
   },
   "source": [
    "## Setup"
   ]
  },
  {
   "cell_type": "code",
   "execution_count": 1,
   "metadata": {
    "colab": {
     "autoexec": {
      "startup": false,
      "wait_interval": 0
     }
    },
    "colab_type": "code",
    "id": "-FU8gYYglwhc"
   },
   "outputs": [],
   "source": [
    "import re\n",
    "import os\n",
    "import glob"
   ]
  },
  {
   "cell_type": "markdown",
   "metadata": {
    "colab_type": "text",
    "id": "GLFO-cdCm0Gu"
   },
   "source": [
    "## define regexes"
   ]
  },
  {
   "cell_type": "code",
   "execution_count": 2,
   "metadata": {
    "colab": {
     "autoexec": {
      "startup": false,
      "wait_interval": 0
     }
    },
    "colab_type": "code",
    "id": "L4YGoRavm0v4"
   },
   "outputs": [],
   "source": [
    "# Works\n",
    "IbanRegex = re.compile(r'[a-zA-Z]{2}[0-9]{2}[a-zA-Z0-9]{4}[0-9]{7}([a-zA-Z0-9]?){0,16}')\n",
    "\n",
    "# Takes 4 different numbers from an example input file\n",
    "KvKRegex = re.compile(r'\\d{8}')\n",
    "\n",
    "# Works\n",
    "AmountRegex = re.compile(r'[€|$]\\s?\\d{1,10}[\\.|\\,]\\d{2}')\n",
    "\n",
    "# Pulls out 4 different files \n",
    "ReferenceRegex = re.compile(r'[A-Z-0-9]{8}')\n",
    "\n",
    "# \n",
    "NameRegex = re.compile(r'[a-zA-Z]{12}?\\s?([a-zA-Z]{12})')\n"
   ]
  },
  {
   "cell_type": "markdown",
   "metadata": {
    "colab_type": "text",
    "id": "8VOfm1E1tVl4"
   },
   "source": [
    "## definitions"
   ]
  },
  {
   "cell_type": "code",
   "execution_count": 4,
   "metadata": {
    "cellView": "both",
    "colab": {
     "autoexec": {
      "startup": false,
      "wait_interval": 0
     }
    },
    "colab_type": "code",
    "id": "OfYCg71Q1GUA"
   },
   "outputs": [],
   "source": [
    "outputData = []\n",
    "\n",
    "def importer(filename):\n",
    "  invoice = open(filename, 'r')\n",
    " \n",
    "def IbanMatcher(invoice):\n",
    "  IbanRegex = re.compile(r'[A-Z]{2}\\d\\d\\s?[A-Z0-9]{4}[0-9]{8,20}')\n",
    "  IbanMatcher.result = IbanRegex.findall(invoice)\n",
    "  outputData.append({'IBAN':IbanMatcher.result})\n",
    "    \n",
    "def KvKMatcher(invoice):\n",
    "  KvKRegex = re.compile(r'[0-9]{8}')\n",
    "  KvKMatcher.result = KvKRegex.findall(invoice)  \n",
    "  outputData.append({'KvK_Nummer':KvKMatcher.result})\n",
    "\n",
    "def AmountMatcher(invoice):\n",
    "  AmountRegex = re.compile(r'(TE BETALEN\\n\\n€\\s)(\\d{1,10}\\.\\d\\d')\n",
    "  AmountMatcher.result = AmountRegex.findall(invoice)\n",
    "  outputData.append({'amounts':AmountMatcher.result})\n",
    "  "
   ]
  },
  {
   "cell_type": "markdown",
   "metadata": {},
   "source": [
    "## run"
   ]
  },
  {
   "cell_type": "code",
   "execution_count": 5,
   "metadata": {},
   "outputs": [
    {
     "ename": "FileNotFoundError",
     "evalue": "[Errno 2] No such file or directory: 'Output.txt'",
     "output_type": "error",
     "traceback": [
      "\u001b[0;31m---------------------------------------------------------------------------\u001b[0m",
      "\u001b[0;31mFileNotFoundError\u001b[0m                         Traceback (most recent call last)",
      "\u001b[0;32m<ipython-input-5-c3f7f973830c>\u001b[0m in \u001b[0;36m<module>\u001b[0;34m()\u001b[0m\n\u001b[0;32m----> 1\u001b[0;31m \u001b[0mfile\u001b[0m \u001b[0;34m=\u001b[0m \u001b[0mopen\u001b[0m\u001b[0;34m(\u001b[0m\u001b[0;34m'Output.txt'\u001b[0m\u001b[0;34m,\u001b[0m \u001b[0;34m'r'\u001b[0m\u001b[0;34m)\u001b[0m\u001b[0;34m\u001b[0m\u001b[0m\n\u001b[0m\u001b[1;32m      2\u001b[0m \u001b[0minvoice\u001b[0m \u001b[0;34m=\u001b[0m \u001b[0mfile\u001b[0m\u001b[0;34m.\u001b[0m\u001b[0mread\u001b[0m\u001b[0;34m(\u001b[0m\u001b[0;34m)\u001b[0m\u001b[0;34m\u001b[0m\u001b[0m\n\u001b[1;32m      3\u001b[0m \u001b[0mIbanMatcher\u001b[0m\u001b[0;34m(\u001b[0m\u001b[0minvoice\u001b[0m\u001b[0;34m)\u001b[0m\u001b[0;34m\u001b[0m\u001b[0m\n\u001b[1;32m      4\u001b[0m \u001b[0mKvKMatcher\u001b[0m\u001b[0;34m(\u001b[0m\u001b[0minvoice\u001b[0m\u001b[0;34m)\u001b[0m\u001b[0;34m\u001b[0m\u001b[0m\n\u001b[1;32m      5\u001b[0m \u001b[0mAmountMatcher\u001b[0m\u001b[0;34m(\u001b[0m\u001b[0minvoice\u001b[0m\u001b[0;34m)\u001b[0m\u001b[0;34m\u001b[0m\u001b[0m\n",
      "\u001b[0;31mFileNotFoundError\u001b[0m: [Errno 2] No such file or directory: 'Output.txt'"
     ]
    }
   ],
   "source": [
    "file = open('Output.txt', 'r')\n",
    "invoice = file.read()\n",
    "IbanMatcher(invoice)\n",
    "KvKMatcher(invoice)\n",
    "AmountMatcher(invoice)"
   ]
  },
  {
   "cell_type": "markdown",
   "metadata": {
    "inputHidden": false,
    "outputHidden": false
   },
   "source": [
    "## make tuple"
   ]
  },
  {
   "cell_type": "code",
   "execution_count": 6,
   "metadata": {
    "inputHidden": false,
    "outputHidden": false
   },
   "outputs": [
    {
     "ename": "NameError",
     "evalue": "name 'invoice' is not defined",
     "output_type": "error",
     "traceback": [
      "\u001b[0;31m---------------------------------------------------------------------------\u001b[0m",
      "\u001b[0;31mNameError\u001b[0m                                 Traceback (most recent call last)",
      "\u001b[0;32m<ipython-input-6-0c26f1724c05>\u001b[0m in \u001b[0;36m<module>\u001b[0;34m()\u001b[0m\n\u001b[0;32m----> 1\u001b[0;31m \u001b[0mprint\u001b[0m\u001b[0;34m(\u001b[0m\u001b[0minvoice\u001b[0m\u001b[0;34m)\u001b[0m\u001b[0;34m\u001b[0m\u001b[0m\n\u001b[0m",
      "\u001b[0;31mNameError\u001b[0m: name 'invoice' is not defined"
     ]
    }
   ],
   "source": [
    "print(invoice)"
   ]
  },
  {
   "cell_type": "code",
   "execution_count": 7,
   "metadata": {
    "inputHidden": false,
    "outputHidden": false
   },
   "outputs": [
    {
     "name": "stdout",
     "output_type": "stream",
     "text": [
      "[]\n"
     ]
    }
   ],
   "source": [
    "print(outputData)"
   ]
  },
  {
   "cell_type": "code",
   "execution_count": null,
   "metadata": {},
   "outputs": [],
   "source": []
  }
 ],
 "metadata": {
  "colab": {
   "collapsed_sections": [],
   "default_view": {},
   "name": "RegExDragon.ipynb",
   "provenance": [],
   "toc_visible": true,
   "version": "0.3.2",
   "views": {}
  },
  "kernel_info": {
   "name": "python3"
  },
  "kernelspec": {
   "display_name": "Python 3",
   "language": "python",
   "name": "python3"
  },
  "language_info": {
   "codemirror_mode": {
    "name": "ipython",
    "version": 3
   },
   "file_extension": ".py",
   "mimetype": "text/x-python",
   "name": "python",
   "nbconvert_exporter": "python",
   "pygments_lexer": "ipython3",
   "version": "3.6.4"
  },
  "nteract": {
   "version": "0.8.3"
  }
 },
 "nbformat": 4,
 "nbformat_minor": 1
}
