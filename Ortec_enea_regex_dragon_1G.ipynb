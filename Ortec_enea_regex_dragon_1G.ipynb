{
  "cells": [
    {
      "cell_type": "markdown",
      "source": [
        "# Regex Extractor\n",
        "\n",
        "## TODO\n",
        "1. define regexes\n",
        "  - Name\n",
        "  - KvK\n",
        "  - Amount\n",
        "  - IBAN\n",
        "  - Invoice reference\n",
        "  - Total\n",
        "2. take input\n",
        "3. match with regex\n",
        "4. get results\n",
        "5. package them as pd df to feed to stacker.\n",
        "\n",
        "format:\n",
        "    \n",
        "UUID | Name | KvK nummer | IBAN | Reference | Total\n",
        "\n",
        "note the df will contain multiple predictions which will be sorted and selected by the stacker model.\n"
      ],
      "metadata": {
        "colab_type": "text",
        "id": "kBDbyYdhmC_q"
      }
    },
    {
      "cell_type": "markdown",
      "source": [
        "## Setup"
      ],
      "metadata": {
        "colab_type": "text",
        "id": "MfloeM3Pm5NY"
      }
    },
    {
      "cell_type": "code",
      "source": [
        "import re\n",
        "import os\n",
        "import glob\n",
        "import pandas as pd"
      ],
      "outputs": [],
      "execution_count": 52,
      "metadata": {
        "colab": {
          "autoexec": {
            "startup": false,
            "wait_interval": 0
          }
        },
        "colab_type": "code",
        "id": "-FU8gYYglwhc"
      }
    },
    {
      "cell_type": "markdown",
      "source": [
        "## define regexes"
      ],
      "metadata": {
        "colab_type": "text",
        "id": "GLFO-cdCm0Gu"
      }
    },
    {
      "cell_type": "code",
      "source": [
        "# Works\n",
        "IbanRegex = re.compile(r'[a-zA-Z]{2}[0-9]{2}[a-zA-Z0-9]{4}[0-9]{7}([a-zA-Z0-9]?){0,16}')\n",
        "\n",
        "# Takes 4 different numbers from an example input file\n",
        "KvKRegex = re.compile(r'\\d{8}')\n",
        "\n",
        "# Works\n",
        "AmountRegex = re.compile(r'[€|$]\\s?\\d{1,10}[\\.|\\,]\\d{2}')\n",
        "\n",
        "# Pulls out 4 different files \n",
        "ReferenceRegex = re.compile(r'[A-Z-0-9]{8}')\n",
        "\n",
        "# \n",
        "NameRegex = re.compile(r'[a-zA-Z]{12}?\\s?([a-zA-Z]{12})')\n"
      ],
      "outputs": [],
      "execution_count": 53,
      "metadata": {
        "colab": {
          "autoexec": {
            "startup": false,
            "wait_interval": 0
          }
        },
        "colab_type": "code",
        "id": "L4YGoRavm0v4"
      }
    },
    {
      "cell_type": "markdown",
      "source": [
        "## definitions"
      ],
      "metadata": {
        "colab_type": "text",
        "id": "8VOfm1E1tVl4"
      }
    },
    {
      "cell_type": "code",
      "source": [
        "outputData = []\n",
        "\n",
        "def importer(filename):\n",
        "  invoice = open(filename, 'r')\n",
        " \n",
        "def IbanMatcher(invoice):\n",
        "  IbanRegex = re.compile(r'[A-Z]{2}\\d\\d\\s?[A-Z0-9]{4}[0-9]{8,20}')\n",
        "  IbanMatcher.result = IbanRegex.findall(invoice)\n",
        "  outputData.append({'IBAN':IbanMatcher.result})\n",
        "    \n",
        "def KvKMatcher(invoice):\n",
        "  KvKRegex = re.compile(r'[0-9]{8}')\n",
        "  KvKMatcher.result = KvKRegex.findall(invoice)  \n",
        "  outputData.append({'KvK_Nummer':KvKMatcher.result})\n",
        "\n",
        "def AmountMatcher(invoice):\n",
        "  AmountRegex = re.compile(r'TE BETALEN\\n\\n€\\s\\d{1,10}\\.\\d\\d')\n",
        "  AmountMatcher.result = AmountRegex.findall(invoice)\n",
        "  outputData.append({'amounts':AmountMatcher.result})\n",
        "  "
      ],
      "outputs": [],
      "execution_count": 54,
      "metadata": {
        "cellView": "both",
        "colab": {
          "autoexec": {
            "startup": false,
            "wait_interval": 0
          }
        },
        "colab_type": "code",
        "id": "OfYCg71Q1GUA"
      }
    },
    {
      "cell_type": "markdown",
      "source": [
        "## Open, process and package\n",
        "\n",
        "in time, this will become (in pseudocode)\n",
        "\n\n",
        "```python\n",
        "get all filenames in directory\n",
        "\n",
        "for file in directory:\n",
        "    \n",
        "    # extract first cell as string\n",
        "    \n",
        "    # exctract all patterns with regex functions\n",
        "    IbanMatcher(invoice)\n",
        "    KvKMatcher(invoice)\n",
        "    AmountMatcher(invoice)\n",
        "       \n",
        "    return outputData\n",
        "\n",
        "    # package data in df for stacker model\n",
        "```"
      ],
      "metadata": {}
    },
    {
      "cell_type": "code",
      "source": [
        "file = pd.read_csv('train/000b5b18-0ef1-4ec4-a66c-559172644aa4.csv')\n"
      ],
      "outputs": [],
      "execution_count": 55,
      "metadata": {}
    },
    {
      "cell_type": "code",
      "source": [
        "invoice = file['invoice'].to_string()\n",
        "type(invoice)"
      ],
      "outputs": [
        {
          "output_type": "execute_result",
          "execution_count": 56,
          "data": {
            "text/plain": [
              "str"
            ]
          },
          "metadata": {}
        }
      ],
      "execution_count": 56,
      "metadata": {
        "collapsed": false,
        "outputHidden": false,
        "inputHidden": false
      }
    },
    {
      "cell_type": "code",
      "source": [
        "IbanMatcher(invoice)\n",
        "KvKMatcher(invoice)\n",
        "AmountMatcher(invoice)"
      ],
      "outputs": [],
      "execution_count": 57,
      "metadata": {
        "collapsed": false,
        "outputHidden": false,
        "inputHidden": false
      }
    },
    {
      "cell_type": "code",
      "source": [
        "print(outputData)"
      ],
      "outputs": [
        {
          "output_type": "stream",
          "name": "stdout",
          "text": [
            "[{'IBAN': []}, {'KvK_Nummer': []}, {'amounts': []}]\n"
          ]
        }
      ],
      "execution_count": 58,
      "metadata": {
        "inputHidden": false,
        "outputHidden": false
      }
    },
    {
      "cell_type": "code",
      "source": [
        "# here goes packaging of outputData into df"
      ],
      "outputs": [],
      "execution_count": 59,
      "metadata": {
        "inputHidden": false,
        "outputHidden": false
      }
    }
  ],
  "metadata": {
    "colab": {
      "collapsed_sections": [],
      "default_view": {},
      "name": "RegExDragon.ipynb",
      "provenance": [],
      "toc_visible": true,
      "version": "0.3.2",
      "views": {}
    },
    "kernel_info": {
      "name": "python3"
    },
    "kernelspec": {
      "name": "python3",
      "language": "python",
      "display_name": "Python 3"
    },
    "language_info": {
      "name": "python",
      "version": "3.6.3",
      "mimetype": "text/x-python",
      "codemirror_mode": {
        "name": "ipython",
        "version": 3
      },
      "pygments_lexer": "ipython3",
      "nbconvert_exporter": "python",
      "file_extension": ".py"
    },
    "nteract": {
      "version": "0.8.4"
    }
  },
  "nbformat": 4,
  "nbformat_minor": 1
}
